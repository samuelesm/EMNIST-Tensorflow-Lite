{
  "cells": [
    {
      "cell_type": "markdown",
      "metadata": {
        "id": "5HEkgJW62Zhq"
      },
      "source": [
        "Copyright 2020 The TensorFlow Authors."
      ]
    },
    {
      "cell_type": "code",
      "execution_count": null,
      "metadata": {
        "id": "ZvnzHC7lmzWB"
      },
      "outputs": [],
      "source": [
        "#@title Licensed under the Apache License, Version 2.0 (the \"License\");\n",
        "# you may not use this file except in compliance with the License.\n",
        "# You may obtain a copy of the License at\n",
        "#\n",
        "# https://www.apache.org/licenses/LICENSE-2.0\n",
        "#\n",
        "# Unless required by applicable law or agreed to in writing, software\n",
        "# distributed under the License is distributed on an \"AS IS\" BASIS,\n",
        "# WITHOUT WARRANTIES OR CONDITIONS OF ANY KIND, either express or implied.\n",
        "# See the License for the specific language governing permissions and\n",
        "# limitations under the License."
      ]
    },
    {
      "cell_type": "markdown",
      "metadata": {
        "id": "mxPxpHKHMAkl"
      },
      "source": [
        "# EMNIST TF Lite implementation\n",
        "\n",
        "This is the notebook based on step 7 of the codelab [**Build a handwritten digit classifier app with TensorFlow Lite**](https://codelabs.developers.google.com/codelabs/digit-classifier-tflite/).\n",
        "\n",
        "<table class=\"tfo-notebook-buttons\" align=\"left\">\n",
        "  <td>\n",
        "    <a target=\"_blank\" href=\"https://colab.research.google.com/github/tensorflow/examples/blob/master/lite/codelabs/digit_classifier/ml/step7_improve_accuracy.ipynb\">\n",
        "    <img src=\"https://www.tensorflow.org/images/colab_logo_32px.png\" />\n",
        "    Run in Google Colab</a>\n",
        "  </td>\n",
        "  <td>\n",
        "    <a target=\"_blank\" href=\"https://github.com/tensorflow/examples/blob/master/lite/codelabs/digit_classifier/ml/step7_improve_accuracy.ipynb\">\n",
        "    <img src=\"https://www.tensorflow.org/images/GitHub-Mark-32px.png\" />\n",
        "    View source on GitHub</a>\n",
        "  </td>\n",
        "</table>"
      ]
    },
    {
      "cell_type": "markdown",
      "metadata": {
        "id": "w0qKcVsBNVyL"
      },
      "source": [
        "In previous steps, we trained a model that could recognize handwritten digits using the MNIST dataset. We were able to achieve above 98% accuracy on our validation dataset. However, when you deploy the model in an Android app and test it, you probably noticed some accuracy issue. Although the app was able to recognize digits that you drew, the accuracy is probably way lower than 98%.\n",
        "\n",
        "In this notebook, we will explore the cause of the accuracy drop and use data augmentation to improve deployment accuracy."
      ]
    },
    {
      "cell_type": "markdown",
      "metadata": {
        "id": "p8bO0hupMdZM"
      },
      "source": [
        "## Preparation\n",
        "\n",
        "Let's start by importing TensorFlow and other supporting libraries that are used for data processing and visualization."
      ]
    },
    {
      "cell_type": "code",
      "execution_count": 2,
      "metadata": {
        "id": "nImr6z7TMBJQ",
        "outputId": "e49c2f34-ac7d-4dc3-bac1-5eb6b6bfbd14",
        "colab": {
          "base_uri": "https://localhost:8080/"
        }
      },
      "outputs": [
        {
          "output_type": "stream",
          "name": "stdout",
          "text": [
            "2.8.2\n"
          ]
        }
      ],
      "source": [
        "import tensorflow as tf\n",
        "from tensorflow import keras\n",
        "import tensorflow_datasets as tfds\n",
        "\n",
        "import matplotlib.pyplot as plt\n",
        "import numpy as np\n",
        "import pandas as pd\n",
        "import random\n",
        "\n",
        "print(tf.__version__)"
      ]
    },
    {
      "cell_type": "markdown",
      "source": [
        "We are using the EMNIST Bymerge dataset. \n",
        "The Bymerge has varying numbers of training data per letter/number. Also, it combines the labelling for capital and lowercase letters for a handful of characters, because training to accurately make distinctions for all 52 capital uppercase and lowercase letters was difficult. \n",
        "\n",
        "From 62 total possible letters and digits, we are predicting 47 possible outcomes. \n",
        "\n",
        "This dataset and CNN method should create about a 90% accuracty rating. "
      ],
      "metadata": {
        "id": "aYCFOH4WN6iQ"
      }
    },
    {
      "cell_type": "code",
      "source": [
        "# Gather EMNIST dataset\n",
        "(train_ds, validation_ds) = tfds.load(\n",
        "    \"emnist/bymerge\",\n",
        "    split=[\"train[:85%]\", \"train[85%:]\"],\n",
        "    as_supervised=True\n",
        ")\n",
        "\n",
        "builder = tfds.builder('emnist/bymerge')\n",
        "builder.info"
      ],
      "metadata": {
        "colab": {
          "base_uri": "https://localhost:8080/",
          "height": 799,
          "referenced_widgets": [
            "5a0c1d0fb98940af860b83b2efc9ea5f",
            "06be38a558dc4f0e875e1411fb93fe2b",
            "5dc22d5ac8294e55a9598ff8e676a69f",
            "b89fc295997643b1b6b484bd863704a7",
            "7702cf0ac4ba4b8c96fd2b2b11f35650",
            "272f3f1a5221420c8af0e391e1dd35e8",
            "4e442a5a066f4533a501ae7bab32da1c",
            "df091353c2764c118c853f9c7900fb66",
            "9a55a094ead9424d8111bc10750fdf7e",
            "4326d8d858ec4194a89677d998b0a471",
            "a78182deddde49a99c61ce7a048355e6",
            "3cf9069774b44044a9b54bbedb63dca1",
            "8edcd9a8a995418aa166b49c7a6ecc4e",
            "e3cdf519dd234d69a5345d6bfd1b5ce3",
            "5d83b42c815140cfbbd1a3d51ed17f9a",
            "b3243818fc8a41d6aa5a7903fb5bbc5d",
            "5339cbbd2eef4b50bf4c055d71061596",
            "32631a1237d549aebed2eacb4d55db43",
            "40c30864881e4443bc55ba0f8af27e55",
            "5f0c943ca12447b1a87a557654266375",
            "9feea210518945bf97c0269834806aa4",
            "c78c974bb8c8495bbcc39508e927fa7a",
            "982a6f3e2c774636bb26fa4bb44ce656",
            "095f3e1134444ab690ab240c3c9cd824",
            "739f456978494039aed79ef34ee3e72c",
            "5027aa2ac66e4a3585eb3bb0b8281cc5",
            "9837667376a5414db75bce73b42355b8",
            "9b6a63d45c2f438eb3813f0be25573bd",
            "6991cd9ac2c74e37a00796dbdf44cba2",
            "d95e41af44ff421aa28bd6e45e852441",
            "551a0807fa8d4b7ba00f2d87d76e53b9",
            "b1c22f5092fe47cea227db3514f8c0cb",
            "b325d25fc98946b596a86ef8fb9a5f25",
            "8e8b962329c0405a969d8673e2d4e388",
            "1fae775d6cda49a79c93c95da30252fd",
            "9f75af2e164448b492d5819f960b8885",
            "e9957762a60f4f4cb1108b4c033f46ae",
            "a9a0ca7475b24a4892f970330c51aa35",
            "9abc6f65aa284489ad17ffb6788e7284",
            "bdc5107edb564a88bbab6f292143c366",
            "1e2174e0a3ac4e4c8376967f6a4be959",
            "7bc31a9a26dc4965b7f35058ed973e4b",
            "1590028c2fc94fb58090b64a8cb513a1",
            "d437d9ce0c8d4c0d907a739e70ce245a",
            "20aa4ceb590f455fad09ea3ee8a30ad9",
            "12b367626fbe46d0863775a8fadd9b06",
            "7bd887914fc04acb82992a5a7fe56249",
            "479eed394aad4e63b99b675dae687d80",
            "32d29c21b434425e8329c229291a51b5",
            "19f572a9df6d4e4494db0f2370654753",
            "e3fcbd343cc9424d94edb137d834f6f3",
            "d2d0201bd25148228444145ab00b0b22",
            "38284845f7ff4fb2a3d47c435e4202d4",
            "e1e8ca7e98ab4fe1aaea4f77a96d0765",
            "f811b6cf0966481a900d0fa15d7205ea",
            "890ab9f99ad345409a80b7e51e762190",
            "70c370c6662243efa887d65c453b0241",
            "79c1a68e0c26425786c9e0a1deee1458",
            "441585ad6dde41de9927372eddbff2ed",
            "133947cafa1a4838a080f713faf5982f",
            "24eceba06863493684d874a2e8c9b653",
            "f6bd265d70564137a6b977c2455dfcfc",
            "9566396018244a6189f302abc547553c",
            "01de5215e3cb419bba62793a960863cb",
            "88ead35355a047a3b470d51565f8fafa",
            "bce3926351cf445ebe9db0270e7fb810",
            "adad8a74d3fb4725a0aef82e71248821",
            "a1185687bdd240aea607c3c90fce5e47",
            "f58106517aef4d6cabfe495084e659f6",
            "f68d182701514d8299263c8fe411e87f",
            "ddefab4734984805b61bb1b3f616741f",
            "dc241af9aaf146a5a5cbbf79b1d3be3e",
            "23758603020e4df6a893130445b70785",
            "81cbdb4b908f44bba99bb006d936d376",
            "39cbe8286ecb4201b119485190afa8af",
            "e95fe685f8d34347920d599fdf418acb",
            "cb5fdb179366449cba85ac9e890fbb89",
            "65a414af9a834f8bab7dc0f75186fcde",
            "c5054c0ccd334ef1942fee90f3854fe4",
            "d1b2c4b35c6747eea28f5bc4760810b1",
            "bb5de84124134edd94412de98e36cd5b",
            "eb240137a65a4af0a63ac0d6479f4ee1",
            "f04e797131aa4ea1988ffb1881b1e9d3",
            "4fa925b1ab0d440ca266a4b5d40d331e",
            "fb0e2d22651042b8b582821a1b23f4dc",
            "6c85be026df544c381310339b385d6e4",
            "e845f6c7f5174802a1a55c00ec8b759c",
            "9948f04c4e5a4f21a52327e0bcf54a2c"
          ]
        },
        "id": "BC-vgAJuUWMB",
        "outputId": "bfe28d69-1a51-46af-df22-657ef16b1cdc"
      },
      "execution_count": null,
      "outputs": [
        {
          "output_type": "stream",
          "name": "stdout",
          "text": [
            "\u001b[1mDownloading and preparing dataset emnist/bymerge/3.0.0 (download: 535.73 MiB, generated: Unknown size, total: 535.73 MiB) to /root/tensorflow_datasets/emnist/bymerge/3.0.0...\u001b[0m\n"
          ]
        },
        {
          "output_type": "display_data",
          "data": {
            "text/plain": [
              "Dl Completed...: 0 url [00:00, ? url/s]"
            ],
            "application/vnd.jupyter.widget-view+json": {
              "version_major": 2,
              "version_minor": 0,
              "model_id": "5a0c1d0fb98940af860b83b2efc9ea5f"
            }
          },
          "metadata": {}
        },
        {
          "output_type": "display_data",
          "data": {
            "text/plain": [
              "Dl Size...: 0 MiB [00:00, ? MiB/s]"
            ],
            "application/vnd.jupyter.widget-view+json": {
              "version_major": 2,
              "version_minor": 0,
              "model_id": "3cf9069774b44044a9b54bbedb63dca1"
            }
          },
          "metadata": {}
        },
        {
          "output_type": "display_data",
          "data": {
            "text/plain": [
              "Extraction completed...: 0 file [00:00, ? file/s]"
            ],
            "application/vnd.jupyter.widget-view+json": {
              "version_major": 2,
              "version_minor": 0,
              "model_id": "982a6f3e2c774636bb26fa4bb44ce656"
            }
          },
          "metadata": {}
        },
        {
          "output_type": "stream",
          "name": "stdout",
          "text": [
            "\n",
            "\n",
            "\n"
          ]
        },
        {
          "output_type": "display_data",
          "data": {
            "text/plain": [
              "Extraction completed...: 0 file [00:00, ? file/s]"
            ],
            "application/vnd.jupyter.widget-view+json": {
              "version_major": 2,
              "version_minor": 0,
              "model_id": "8e8b962329c0405a969d8673e2d4e388"
            }
          },
          "metadata": {}
        },
        {
          "output_type": "stream",
          "name": "stdout",
          "text": [
            "\n"
          ]
        },
        {
          "output_type": "display_data",
          "data": {
            "text/plain": [
              "0 examples [00:00, ? examples/s]"
            ],
            "application/vnd.jupyter.widget-view+json": {
              "version_major": 2,
              "version_minor": 0,
              "model_id": "20aa4ceb590f455fad09ea3ee8a30ad9"
            }
          },
          "metadata": {}
        },
        {
          "output_type": "stream",
          "name": "stdout",
          "text": [
            "Shuffling and writing examples to /root/tensorflow_datasets/emnist/bymerge/3.0.0.incompleteOPRI3W/emnist-train.tfrecord\n"
          ]
        },
        {
          "output_type": "display_data",
          "data": {
            "text/plain": [
              "  0%|          | 0/697932 [00:00<?, ? examples/s]"
            ],
            "application/vnd.jupyter.widget-view+json": {
              "version_major": 2,
              "version_minor": 0,
              "model_id": "890ab9f99ad345409a80b7e51e762190"
            }
          },
          "metadata": {}
        },
        {
          "output_type": "display_data",
          "data": {
            "text/plain": [
              "0 examples [00:00, ? examples/s]"
            ],
            "application/vnd.jupyter.widget-view+json": {
              "version_major": 2,
              "version_minor": 0,
              "model_id": "adad8a74d3fb4725a0aef82e71248821"
            }
          },
          "metadata": {}
        },
        {
          "output_type": "stream",
          "name": "stdout",
          "text": [
            "Shuffling and writing examples to /root/tensorflow_datasets/emnist/bymerge/3.0.0.incompleteOPRI3W/emnist-test.tfrecord\n"
          ]
        },
        {
          "output_type": "display_data",
          "data": {
            "text/plain": [
              "  0%|          | 0/116323 [00:00<?, ? examples/s]"
            ],
            "application/vnd.jupyter.widget-view+json": {
              "version_major": 2,
              "version_minor": 0,
              "model_id": "65a414af9a834f8bab7dc0f75186fcde"
            }
          },
          "metadata": {}
        },
        {
          "output_type": "stream",
          "name": "stdout",
          "text": [
            "\u001b[1mDataset emnist downloaded and prepared to /root/tensorflow_datasets/emnist/bymerge/3.0.0. Subsequent calls will reuse this data.\u001b[0m\n"
          ]
        },
        {
          "output_type": "execute_result",
          "data": {
            "text/plain": [
              "tfds.core.DatasetInfo(\n",
              "    name='emnist',\n",
              "    version=3.0.0,\n",
              "    description='The EMNIST dataset is a set of handwritten character digits derived from the NIST Special Database 19 and converted to a 28x28 pixel image format and dataset structure that directly matches the MNIST dataset.\n",
              "\n",
              "Note: Like the original EMNIST data, images provided here are inverted horizontally and rotated 90 anti-clockwise. You can use `tf.transpose` within `ds.map` to convert the images to a human-friendlier format.',\n",
              "    homepage='https://www.nist.gov/itl/products-and-services/emnist-dataset',\n",
              "    features=FeaturesDict({\n",
              "        'image': Image(shape=(28, 28, 1), dtype=tf.uint8),\n",
              "        'label': ClassLabel(shape=(), dtype=tf.int64, num_classes=47),\n",
              "    }),\n",
              "    total_num_examples=814255,\n",
              "    splits={\n",
              "        'test': 116323,\n",
              "        'train': 697932,\n",
              "    },\n",
              "    supervised_keys=('image', 'label'),\n",
              "    citation=\"\"\"@article{cohen_afshar_tapson_schaik_2017,\n",
              "        title={EMNIST: Extending MNIST to handwritten letters},\n",
              "        DOI={10.1109/ijcnn.2017.7966217},\n",
              "        journal={2017 International Joint Conference on Neural Networks (IJCNN)},\n",
              "        author={Cohen, Gregory and Afshar, Saeed and Tapson, Jonathan and Schaik, Andre Van},\n",
              "        year={2017}\n",
              "    }\"\"\",\n",
              "    redistribution_info=,\n",
              ")"
            ]
          },
          "metadata": {},
          "execution_count": 2
        }
      ]
    },
    {
      "cell_type": "code",
      "source": [
        "def dataset_to_numpy(ds):\n",
        "    \"\"\"\n",
        "    Convert tensorflow dataset to numpy arrays\n",
        "    \"\"\"\n",
        "    images = []\n",
        "    labels = []\n",
        "\n",
        "    # Iterate over a dataset\n",
        "    for i, (image, label) in enumerate(tfds.as_numpy(ds)):\n",
        "        images.append(image)\n",
        "        labels.append(label)\n",
        "\n",
        "    for i, img in enumerate(images):\n",
        "        if i < 3:\n",
        "            print(img.shape, labels[i])\n",
        "\n",
        "    return images, labels"
      ],
      "metadata": {
        "id": "ZV8MSratu3N0"
      },
      "execution_count": null,
      "outputs": []
    },
    {
      "cell_type": "code",
      "source": [
        "# Convert Train data to list... idk why it doesn't go stright to numpy\n",
        "EMNIST_train_data, EMNIST_train_labels = dataset_to_numpy(train_ds)"
      ],
      "metadata": {
        "colab": {
          "base_uri": "https://localhost:8080/"
        },
        "id": "8lRJg9Q5kKlX",
        "outputId": "c7721000-7680-4eaa-f8af-ed5150864c67"
      },
      "execution_count": null,
      "outputs": [
        {
          "output_type": "stream",
          "name": "stdout",
          "text": [
            "(28, 28, 1) 5\n",
            "(28, 28, 1) 10\n",
            "(28, 28, 1) 46\n"
          ]
        }
      ]
    },
    {
      "cell_type": "code",
      "source": [
        "# Rotate and Flip all train images\n",
        "for i in range(np.shape(EMNIST_train_data)[0]):\n",
        "  EMNIST_train_data[i] = np.transpose(EMNIST_train_data[i], (1, 0, 2))"
      ],
      "metadata": {
        "id": "uFW4OVL30NWF"
      },
      "execution_count": null,
      "outputs": []
    },
    {
      "cell_type": "code",
      "source": [
        "# Convert Test data to list... idk why it doesn't go stright to numpy\n",
        "EMNIST_test_data, EMNIST_test_labels = dataset_to_numpy(validation_ds)"
      ],
      "metadata": {
        "colab": {
          "base_uri": "https://localhost:8080/"
        },
        "id": "H1g7d_SO0nh_",
        "outputId": "3292a2dc-008e-4376-eb27-ae98c7452bef"
      },
      "execution_count": null,
      "outputs": [
        {
          "output_type": "stream",
          "name": "stdout",
          "text": [
            "(28, 28, 1) 28\n",
            "(28, 28, 1) 6\n",
            "(28, 28, 1) 1\n"
          ]
        }
      ]
    },
    {
      "cell_type": "code",
      "source": [
        "# Rotate and Flip all train images\n",
        "for i in range(np.shape(EMNIST_test_data)[0]):\n",
        "  EMNIST_test_data[i] = np.transpose(EMNIST_test_data[i], (1, 0, 2))"
      ],
      "metadata": {
        "id": "t4eIPcEf0q92"
      },
      "execution_count": null,
      "outputs": []
    },
    {
      "cell_type": "code",
      "source": [
        "# Convert data from list to numpy\n",
        "EMNIST_train_data = np.array(EMNIST_train_data)\n",
        "EMNIST_test_data = np.array(EMNIST_test_data)\n",
        "\n",
        "# Normalize the input image so that each pixel value is between 0 to 1.\n",
        "EMNIST_train_data = EMNIST_train_data / 255.0\n",
        "EMNIST_test_data = EMNIST_test_data / 255.0\n",
        "\n",
        "# Add a color dimension to the images in \"train\" and \"validate\" dataset to\n",
        "# leverage Keras's data augmentation utilities later.\n",
        "EMNIST_train_data = np.expand_dims(EMNIST_train_data, axis=3)\n",
        "EMNIST_test_data = np.expand_dims(EMNIST_test_data, axis=3)"
      ],
      "metadata": {
        "id": "a79VwcJn1i7E"
      },
      "execution_count": null,
      "outputs": []
    },
    {
      "cell_type": "code",
      "source": [
        "EMNIST_train_data = np.reshape(EMNIST_train_data, (593242, 28, 28, 1))\n",
        "EMNIST_test_data = np.reshape(EMNIST_test_data, (104690, 28, 28, 1))"
      ],
      "metadata": {
        "id": "7AJAY0Ok60Qi"
      },
      "execution_count": null,
      "outputs": []
    },
    {
      "cell_type": "code",
      "source": [
        "# Convert data from list to numpy\n",
        "EMNIST_train_labels = np.array(EMNIST_train_labels)\n",
        "EMNIST_test_labels = np.array(EMNIST_test_labels)"
      ],
      "metadata": {
        "id": "AEVizCA63Fpb"
      },
      "execution_count": null,
      "outputs": []
    },
    {
      "cell_type": "code",
      "source": [
        "print(np.shape(EMNIST_train_data))\n",
        "print(np.shape(EMNIST_train_labels))\n",
        "print(np.shape(EMNIST_test_data))"
      ],
      "metadata": {
        "colab": {
          "base_uri": "https://localhost:8080/"
        },
        "id": "KSj1RZ4c6njW",
        "outputId": "0d5d6f28-6521-4d20-8a7b-78903d05ccb9"
      },
      "execution_count": null,
      "outputs": [
        {
          "output_type": "stream",
          "name": "stdout",
          "text": [
            "(593242, 28, 28, 1)\n",
            "(593242,)\n",
            "(104690, 28, 28, 1)\n"
          ]
        }
      ]
    },
    {
      "cell_type": "code",
      "source": [
        "plt.imshow(np.squeeze(EMNIST_train_data[0], axis=2), cmap=plt.cm.gray)"
      ],
      "metadata": {
        "colab": {
          "base_uri": "https://localhost:8080/",
          "height": 282
        },
        "id": "ZPPVroGfw1Mj",
        "outputId": "b7bf8c30-2336-4639-98e4-a213d4eb7491"
      },
      "execution_count": null,
      "outputs": [
        {
          "output_type": "execute_result",
          "data": {
            "text/plain": [
              "<matplotlib.image.AxesImage at 0x7f6bef3b8890>"
            ]
          },
          "metadata": {},
          "execution_count": 67
        },
        {
          "output_type": "display_data",
          "data": {
            "text/plain": [
              "<Figure size 432x288 with 1 Axes>"
            ],
            "image/png": "[encoded data removed]"
          },
          "metadata": {
            "needs_background": "light"
          }
        }
      ]
    },
    {
      "cell_type": "code",
      "source": [
        "print(type(EMNIST_test_labels))\n",
        "print(type(train_labels))"
      ],
      "metadata": {
        "colab": {
          "base_uri": "https://localhost:8080/"
        },
        "id": "KjuaAxsJuYFI",
        "outputId": "b079f210-7c8d-4de6-e138-e6c2a1208512"
      },
      "execution_count": null,
      "outputs": [
        {
          "output_type": "stream",
          "name": "stdout",
          "text": [
            "<class 'list'>\n",
            "<class 'numpy.ndarray'>\n"
          ]
        }
      ]
    },
    {
      "cell_type": "code",
      "source": [
        "# train_ds = tf.transpose(train_ds, [1,0,2])\n",
        "LABELS = ['0', '1', '2', '3', '4', '5', '6', '7', '8', '9', \n",
        "          'A', 'B', 'C', 'D', 'E', 'F', 'G', 'H', 'I', 'J', 'K', 'L', 'M', 'N', 'O', 'P', 'Q', 'R', 'S', 'T', 'U', 'V', 'W', 'X', 'Y', 'Z',\n",
        "          'a', 'b', 'd', 'e', 'f', 'g', 'h', 'n', 'q', 'r', 't']\n",
        "len(LABELS)"
      ],
      "metadata": {
        "colab": {
          "base_uri": "https://localhost:8080/"
        },
        "id": "_gA7Ok6BXxPh",
        "outputId": "4ac38f57-d318-4598-94b0-489c4ec84201"
      },
      "execution_count": null,
      "outputs": [
        {
          "output_type": "execute_result",
          "data": {
            "text/plain": [
              "47"
            ]
          },
          "metadata": {},
          "execution_count": 12
        }
      ]
    },
    {
      "cell_type": "markdown",
      "metadata": {
        "id": "Rivc81WyRpXG"
      },
      "source": [
        "Import MNIST dataset."
      ]
    },
    {
      "cell_type": "code",
      "execution_count": null,
      "metadata": {
        "id": "ZGd5hkioMpcr",
        "outputId": "8254b1e0-ea72-4e28-8a08-c16dfa47b53d",
        "colab": {
          "base_uri": "https://localhost:8080/"
        }
      },
      "outputs": [
        {
          "output_type": "stream",
          "name": "stdout",
          "text": [
            "Downloading data from https://storage.googleapis.com/tensorflow/tf-keras-datasets/mnist.npz\n",
            "11493376/11490434 [==============================] - 0s 0us/step\n",
            "11501568/11490434 [==============================] - 0s 0us/step\n"
          ]
        }
      ],
      "source": [
        "### From prior example notebook\n",
        "# mnist = keras.datasets.mnist\n",
        "# (train_images, train_labels), (test_images, test_labels) = mnist.load_data()\n",
        "\n",
        "# # Normalize the input image so that each pixel value is between 0 to 1.\n",
        "# train_images = train_images / 255.0\n",
        "# test_images = test_images / 255.0\n",
        "\n",
        "# # Add a color dimension to the images in \"train\" and \"validate\" dataset to\n",
        "# # leverage Keras's data augmentation utilities later.\n",
        "# train_images = np.expand_dims(train_images, axis=3)\n",
        "# test_images = np.expand_dims(test_images, axis=3)"
      ]
    },
    {
      "cell_type": "markdown",
      "metadata": {
        "id": "0SbDbl3HSHh1"
      },
      "source": [
        "Define an utility function so that we can create quickly create multiple models with the same model architecture for comparison."
      ]
    },
    {
      "cell_type": "code",
      "execution_count": null,
      "metadata": {
        "id": "JjoUeI5WSE_H"
      },
      "outputs": [],
      "source": [
        "# We want the last set of nodes to be equal to 47, the number of possible outcomes for this EMNIST set\n",
        "def create_model():\n",
        "  model = keras.Sequential([\n",
        "    keras.layers.InputLayer(input_shape=(28, 28, 1)),\n",
        "    keras.layers.Conv2D(filters=32, kernel_size=(3, 3), activation=tf.nn.relu),\n",
        "    keras.layers.Conv2D(filters=64, kernel_size=(3, 3), activation=tf.nn.relu),\n",
        "    keras.layers.MaxPooling2D(pool_size=(2, 2)),\n",
        "    keras.layers.Dropout(0.25),\n",
        "    keras.layers.Flatten(),\n",
        "    keras.layers.Dense(47, activation=tf.nn.softmax)\n",
        "  ])\n",
        "  model.compile(optimizer='adam',\n",
        "                loss='sparse_categorical_crossentropy',\n",
        "                metrics=['accuracy'])\n",
        "  return model"
      ]
    },
    {
      "cell_type": "markdown",
      "metadata": {
        "id": "QGgIJ4pYThkm"
      },
      "source": [
        "Confirm that our model can achieve above 98% accuracy on MNIST dataset."
      ]
    },
    {
      "cell_type": "code",
      "execution_count": null,
      "metadata": {
        "id": "W2cYWUbkTb8Q",
        "outputId": "8dff3c4a-3fb7-4d64-a3a5-c0e9dddcf03b",
        "colab": {
          "base_uri": "https://localhost:8080/"
        }
      },
      "outputs": [
        {
          "output_type": "stream",
          "name": "stdout",
          "text": [
            "Epoch 1/5\n",
            "1875/1875 [==============================] - 18s 4ms/step - loss: 0.1372 - accuracy: 0.9585 - val_loss: 0.0501 - val_accuracy: 0.9837\n",
            "Epoch 2/5\n",
            "1875/1875 [==============================] - 7s 4ms/step - loss: 0.0541 - accuracy: 0.9834 - val_loss: 0.0371 - val_accuracy: 0.9878\n",
            "Epoch 3/5\n",
            "1875/1875 [==============================] - 7s 4ms/step - loss: 0.0390 - accuracy: 0.9872 - val_loss: 0.0351 - val_accuracy: 0.9895\n",
            "Epoch 4/5\n",
            "1875/1875 [==============================] - 7s 4ms/step - loss: 0.0311 - accuracy: 0.9901 - val_loss: 0.0364 - val_accuracy: 0.9884\n",
            "Epoch 5/5\n",
            "1875/1875 [==============================] - 7s 4ms/step - loss: 0.0239 - accuracy: 0.9924 - val_loss: 0.0345 - val_accuracy: 0.9892\n"
          ]
        },
        {
          "output_type": "execute_result",
          "data": {
            "text/plain": [
              "<keras.callbacks.History at 0x7f42fc0f4410>"
            ]
          },
          "metadata": {},
          "execution_count": 4
        }
      ],
      "source": [
        "### From prior example notebook\n",
        "# base_model = create_model()\n",
        "# base_model.fit(\n",
        "#     train_images,\n",
        "#     train_labels,\n",
        "#     epochs=5,\n",
        "#     validation_data=(test_images, test_labels)\n",
        "# )"
      ]
    },
    {
      "cell_type": "code",
      "source": [
        "EMNIST_base_model = create_model()\n",
        "EMNIST_base_model.fit(\n",
        "    EMNIST_train_data,\n",
        "    EMNIST_train_labels,\n",
        "    epochs=20,\n",
        "    validation_data=(EMNIST_test_data, EMNIST_test_labels)\n",
        ")"
      ],
      "metadata": {
        "colab": {
          "base_uri": "https://localhost:8080/"
        },
        "id": "TZEZbNdf3jek",
        "outputId": "a6828d33-5774-4ec5-9203-fcc87ab6ae49"
      },
      "execution_count": null,
      "outputs": [
        {
          "output_type": "stream",
          "name": "stdout",
          "text": [
            "Epoch 1/20\n",
            "18539/18539 [==============================] - 82s 4ms/step - loss: 0.4088 - accuracy: 0.8631 - val_loss: 0.3291 - val_accuracy: 0.8835\n",
            "Epoch 2/20\n",
            "18539/18539 [==============================] - 71s 4ms/step - loss: 0.3105 - accuracy: 0.8898 - val_loss: 0.2985 - val_accuracy: 0.8945\n",
            "Epoch 3/20\n",
            "18539/18539 [==============================] - 71s 4ms/step - loss: 0.2869 - accuracy: 0.8963 - val_loss: 0.2956 - val_accuracy: 0.8957\n",
            "Epoch 4/20\n",
            "18539/18539 [==============================] - 74s 4ms/step - loss: 0.2734 - accuracy: 0.9004 - val_loss: 0.2907 - val_accuracy: 0.8965\n",
            "Epoch 5/20\n",
            "18539/18539 [==============================] - 71s 4ms/step - loss: 0.2639 - accuracy: 0.9031 - val_loss: 0.2947 - val_accuracy: 0.8971\n",
            "Epoch 6/20\n",
            "18539/18539 [==============================] - 71s 4ms/step - loss: 0.2571 - accuracy: 0.9047 - val_loss: 0.2930 - val_accuracy: 0.8968\n",
            "Epoch 7/20\n",
            "18539/18539 [==============================] - 74s 4ms/step - loss: 0.2514 - accuracy: 0.9069 - val_loss: 0.2906 - val_accuracy: 0.8969\n",
            "Epoch 8/20\n",
            "18539/18539 [==============================] - 71s 4ms/step - loss: 0.2465 - accuracy: 0.9079 - val_loss: 0.3021 - val_accuracy: 0.8960\n",
            "Epoch 9/20\n",
            "18539/18539 [==============================] - 70s 4ms/step - loss: 0.2424 - accuracy: 0.9088 - val_loss: 0.2966 - val_accuracy: 0.8968\n",
            "Epoch 10/20\n",
            "18539/18539 [==============================] - 74s 4ms/step - loss: 0.2395 - accuracy: 0.9100 - val_loss: 0.2984 - val_accuracy: 0.8955\n",
            "Epoch 11/20\n",
            "18539/18539 [==============================] - 71s 4ms/step - loss: 0.2366 - accuracy: 0.9107 - val_loss: 0.2974 - val_accuracy: 0.8971\n",
            "Epoch 12/20\n",
            "18539/18539 [==============================] - 70s 4ms/step - loss: 0.2347 - accuracy: 0.9112 - val_loss: 0.3002 - val_accuracy: 0.8958\n",
            "Epoch 13/20\n",
            "18539/18539 [==============================] - 74s 4ms/step - loss: 0.2316 - accuracy: 0.9119 - val_loss: 0.3019 - val_accuracy: 0.8972\n",
            "Epoch 14/20\n",
            "18539/18539 [==============================] - 70s 4ms/step - loss: 0.2295 - accuracy: 0.9123 - val_loss: 0.3092 - val_accuracy: 0.8958\n",
            "Epoch 15/20\n",
            "18539/18539 [==============================] - 74s 4ms/step - loss: 0.2286 - accuracy: 0.9128 - val_loss: 0.3069 - val_accuracy: 0.8955\n",
            "Epoch 16/20\n",
            "18539/18539 [==============================] - 70s 4ms/step - loss: 0.2264 - accuracy: 0.9134 - val_loss: 0.3208 - val_accuracy: 0.8971\n",
            "Epoch 17/20\n",
            "18539/18539 [==============================] - 71s 4ms/step - loss: 0.2253 - accuracy: 0.9140 - val_loss: 0.3131 - val_accuracy: 0.8950\n",
            "Epoch 18/20\n",
            "18539/18539 [==============================] - 74s 4ms/step - loss: 0.2233 - accuracy: 0.9143 - val_loss: 0.3122 - val_accuracy: 0.8960\n",
            "Epoch 19/20\n",
            "18539/18539 [==============================] - 75s 4ms/step - loss: 0.2229 - accuracy: 0.9144 - val_loss: 0.3201 - val_accuracy: 0.8948\n",
            "Epoch 20/20\n",
            "18539/18539 [==============================] - 74s 4ms/step - loss: 0.2216 - accuracy: 0.9147 - val_loss: 0.3136 - val_accuracy: 0.8963\n"
          ]
        },
        {
          "output_type": "execute_result",
          "data": {
            "text/plain": [
              "<keras.callbacks.History at 0x7f9f474582d0>"
            ]
          },
          "metadata": {},
          "execution_count": 12
        }
      ]
    },
    {
      "cell_type": "code",
      "source": [
        "EMNIST_base_model = create_model()\n",
        "EMNIST_base_model.fit(\n",
        "    EMNIST_train_data,\n",
        "    EMNIST_train_labels,\n",
        "    epochs=50,\n",
        "    validation_data=(EMNIST_test_data, EMNIST_test_labels)\n",
        ")"
      ],
      "metadata": {
        "colab": {
          "base_uri": "https://localhost:8080/"
        },
        "id": "FeOS2bY7dqFu",
        "outputId": "c9946590-fc7e-4c62-9cdc-d3930ed66d2a"
      },
      "execution_count": null,
      "outputs": [
        {
          "output_type": "stream",
          "name": "stdout",
          "text": [
            "Epoch 1/50\n",
            "18539/18539 [==============================] - 71s 4ms/step - loss: 0.4116 - accuracy: 0.8629 - val_loss: 0.3252 - val_accuracy: 0.8844\n",
            "Epoch 2/50\n",
            "18539/18539 [==============================] - 70s 4ms/step - loss: 0.3126 - accuracy: 0.8893 - val_loss: 0.3015 - val_accuracy: 0.8918\n",
            "Epoch 3/50\n",
            "18539/18539 [==============================] - 71s 4ms/step - loss: 0.2900 - accuracy: 0.8952 - val_loss: 0.2977 - val_accuracy: 0.8946\n",
            "Epoch 4/50\n",
            "18539/18539 [==============================] - 74s 4ms/step - loss: 0.2773 - accuracy: 0.8991 - val_loss: 0.2942 - val_accuracy: 0.8962\n",
            "Epoch 5/50\n",
            "18539/18539 [==============================] - 71s 4ms/step - loss: 0.2680 - accuracy: 0.9019 - val_loss: 0.2869 - val_accuracy: 0.8980\n",
            "Epoch 6/50\n",
            "18539/18539 [==============================] - 74s 4ms/step - loss: 0.2612 - accuracy: 0.9036 - val_loss: 0.2903 - val_accuracy: 0.8970\n",
            "Epoch 7/50\n",
            "18539/18539 [==============================] - 74s 4ms/step - loss: 0.2555 - accuracy: 0.9050 - val_loss: 0.2947 - val_accuracy: 0.8984\n",
            "Epoch 8/50\n",
            "18539/18539 [==============================] - 74s 4ms/step - loss: 0.2512 - accuracy: 0.9068 - val_loss: 0.2902 - val_accuracy: 0.8984\n",
            "Epoch 9/50\n",
            "18539/18539 [==============================] - 74s 4ms/step - loss: 0.2477 - accuracy: 0.9072 - val_loss: 0.2913 - val_accuracy: 0.8961\n",
            "Epoch 10/50\n",
            "18539/18539 [==============================] - 74s 4ms/step - loss: 0.2443 - accuracy: 0.9078 - val_loss: 0.2984 - val_accuracy: 0.8978\n",
            "Epoch 11/50\n",
            "18539/18539 [==============================] - 74s 4ms/step - loss: 0.2417 - accuracy: 0.9091 - val_loss: 0.2948 - val_accuracy: 0.8969\n",
            "Epoch 12/50\n",
            "18539/18539 [==============================] - 75s 4ms/step - loss: 0.2399 - accuracy: 0.9099 - val_loss: 0.2989 - val_accuracy: 0.8967\n",
            "Epoch 13/50\n",
            "18539/18539 [==============================] - 71s 4ms/step - loss: 0.2374 - accuracy: 0.9101 - val_loss: 0.3000 - val_accuracy: 0.8972\n",
            "Epoch 14/50\n",
            "18539/18539 [==============================] - 71s 4ms/step - loss: 0.2351 - accuracy: 0.9108 - val_loss: 0.2981 - val_accuracy: 0.8959\n",
            "Epoch 15/50\n",
            "18539/18539 [==============================] - 70s 4ms/step - loss: 0.2334 - accuracy: 0.9113 - val_loss: 0.3096 - val_accuracy: 0.8974\n",
            "Epoch 16/50\n",
            "18539/18539 [==============================] - 71s 4ms/step - loss: 0.2320 - accuracy: 0.9119 - val_loss: 0.3060 - val_accuracy: 0.8965\n",
            "Epoch 17/50\n",
            "18539/18539 [==============================] - 71s 4ms/step - loss: 0.2308 - accuracy: 0.9119 - val_loss: 0.3050 - val_accuracy: 0.8969\n",
            "Epoch 18/50\n",
            "18539/18539 [==============================] - 70s 4ms/step - loss: 0.2289 - accuracy: 0.9126 - val_loss: 0.3164 - val_accuracy: 0.8970\n",
            "Epoch 19/50\n",
            "18539/18539 [==============================] - 71s 4ms/step - loss: 0.2279 - accuracy: 0.9128 - val_loss: 0.3123 - val_accuracy: 0.8970\n",
            "Epoch 20/50\n",
            "18539/18539 [==============================] - 70s 4ms/step - loss: 0.2271 - accuracy: 0.9133 - val_loss: 0.3116 - val_accuracy: 0.8934\n",
            "Epoch 21/50\n",
            "18539/18539 [==============================] - 71s 4ms/step - loss: 0.2260 - accuracy: 0.9134 - val_loss: 0.3153 - val_accuracy: 0.8969\n",
            "Epoch 22/50\n",
            "18539/18539 [==============================] - 71s 4ms/step - loss: 0.2255 - accuracy: 0.9138 - val_loss: 0.3117 - val_accuracy: 0.8950\n",
            "Epoch 23/50\n",
            "18539/18539 [==============================] - 75s 4ms/step - loss: 0.2246 - accuracy: 0.9139 - val_loss: 0.3160 - val_accuracy: 0.8964\n",
            "Epoch 24/50\n",
            "18539/18539 [==============================] - 74s 4ms/step - loss: 0.2241 - accuracy: 0.9142 - val_loss: 0.3142 - val_accuracy: 0.8952\n",
            "Epoch 25/50\n",
            "18539/18539 [==============================] - 71s 4ms/step - loss: 0.2236 - accuracy: 0.9143 - val_loss: 0.3258 - val_accuracy: 0.8952\n",
            "Epoch 26/50\n",
            "18539/18539 [==============================] - 71s 4ms/step - loss: 0.2228 - accuracy: 0.9141 - val_loss: 0.3222 - val_accuracy: 0.8942\n",
            "Epoch 27/50\n",
            "18539/18539 [==============================] - 74s 4ms/step - loss: 0.2222 - accuracy: 0.9145 - val_loss: 0.3212 - val_accuracy: 0.8951\n",
            "Epoch 28/50\n",
            "18539/18539 [==============================] - 74s 4ms/step - loss: 0.2211 - accuracy: 0.9152 - val_loss: 0.3132 - val_accuracy: 0.8939\n",
            "Epoch 29/50\n",
            "18539/18539 [==============================] - 75s 4ms/step - loss: 0.2214 - accuracy: 0.9146 - val_loss: 0.3194 - val_accuracy: 0.8962\n",
            "Epoch 30/50\n",
            "18539/18539 [==============================] - 75s 4ms/step - loss: 0.2207 - accuracy: 0.9151 - val_loss: 0.3198 - val_accuracy: 0.8956\n",
            "Epoch 31/50\n",
            "18539/18539 [==============================] - 71s 4ms/step - loss: 0.2204 - accuracy: 0.9150 - val_loss: 0.3186 - val_accuracy: 0.8941\n",
            "Epoch 32/50\n",
            "18539/18539 [==============================] - 70s 4ms/step - loss: 0.2201 - accuracy: 0.9152 - val_loss: 0.3213 - val_accuracy: 0.8953\n",
            "Epoch 33/50\n",
            "18539/18539 [==============================] - 74s 4ms/step - loss: 0.2192 - accuracy: 0.9154 - val_loss: 0.3254 - val_accuracy: 0.8937\n",
            "Epoch 34/50\n",
            "18539/18539 [==============================] - 75s 4ms/step - loss: 0.2184 - accuracy: 0.9156 - val_loss: 0.3237 - val_accuracy: 0.8944\n",
            "Epoch 35/50\n",
            "18539/18539 [==============================] - 71s 4ms/step - loss: 0.2189 - accuracy: 0.9155 - val_loss: 0.3222 - val_accuracy: 0.8940\n",
            "Epoch 36/50\n",
            "18539/18539 [==============================] - 75s 4ms/step - loss: 0.2182 - accuracy: 0.9153 - val_loss: 0.3232 - val_accuracy: 0.8959\n",
            "Epoch 37/50\n",
            "18539/18539 [==============================] - 71s 4ms/step - loss: 0.2186 - accuracy: 0.9159 - val_loss: 0.3302 - val_accuracy: 0.8940\n",
            "Epoch 38/50\n",
            "18539/18539 [==============================] - 75s 4ms/step - loss: 0.2184 - accuracy: 0.9156 - val_loss: 0.3398 - val_accuracy: 0.8940\n",
            "Epoch 39/50\n",
            "18539/18539 [==============================] - 71s 4ms/step - loss: 0.2175 - accuracy: 0.9158 - val_loss: 0.3266 - val_accuracy: 0.8942\n",
            "Epoch 40/50\n",
            "18539/18539 [==============================] - 74s 4ms/step - loss: 0.2177 - accuracy: 0.9159 - val_loss: 0.3288 - val_accuracy: 0.8949\n",
            "Epoch 41/50\n",
            "18539/18539 [==============================] - 75s 4ms/step - loss: 0.2171 - accuracy: 0.9158 - val_loss: 0.3375 - val_accuracy: 0.8948\n",
            "Epoch 42/50\n",
            "18539/18539 [==============================] - 71s 4ms/step - loss: 0.2168 - accuracy: 0.9161 - val_loss: 0.3384 - val_accuracy: 0.8950\n",
            "Epoch 43/50\n",
            "18539/18539 [==============================] - 75s 4ms/step - loss: 0.2177 - accuracy: 0.9161 - val_loss: 0.3442 - val_accuracy: 0.8938\n",
            "Epoch 44/50\n",
            "18539/18539 [==============================] - 71s 4ms/step - loss: 0.2171 - accuracy: 0.9159 - val_loss: 0.3421 - val_accuracy: 0.8943\n",
            "Epoch 45/50\n",
            "18539/18539 [==============================] - 75s 4ms/step - loss: 0.2168 - accuracy: 0.9160 - val_loss: 0.3360 - val_accuracy: 0.8949\n",
            "Epoch 46/50\n",
            "18539/18539 [==============================] - 74s 4ms/step - loss: 0.2158 - accuracy: 0.9164 - val_loss: 0.3352 - val_accuracy: 0.8945\n",
            "Epoch 47/50\n",
            "18539/18539 [==============================] - 71s 4ms/step - loss: 0.2167 - accuracy: 0.9165 - val_loss: 0.3360 - val_accuracy: 0.8920\n",
            "Epoch 48/50\n",
            "18539/18539 [==============================] - 75s 4ms/step - loss: 0.2162 - accuracy: 0.9164 - val_loss: 0.3410 - val_accuracy: 0.8935\n",
            "Epoch 49/50\n",
            "18539/18539 [==============================] - 74s 4ms/step - loss: 0.2159 - accuracy: 0.9165 - val_loss: 0.3405 - val_accuracy: 0.8947\n",
            "Epoch 50/50\n",
            "18539/18539 [==============================] - 71s 4ms/step - loss: 0.2168 - accuracy: 0.9158 - val_loss: 0.3316 - val_accuracy: 0.8901\n"
          ]
        },
        {
          "output_type": "execute_result",
          "data": {
            "text/plain": [
              "<keras.callbacks.History at 0x7f9f475c6e10>"
            ]
          },
          "metadata": {},
          "execution_count": 23
        }
      ]
    },
    {
      "cell_type": "markdown",
      "metadata": {
        "id": "lEtLCGS0Ufag"
      },
      "source": [
        "# Troubleshoot the accuracy drop\n",
        "\n",
        "Let's see the digit images in MNIST again and guess the cause of the accuracy drop we experienced in deployment."
      ]
    },
    {
      "cell_type": "code",
      "execution_count": null,
      "metadata": {
        "id": "xptCfTnBTgvm"
      },
      "outputs": [],
      "source": [
        "### From prior example notebook\n",
        "# # Show the first 25 images in the training dataset.\n",
        "# plt.figure(figsize=(10,10))\n",
        "# for i in range(25):\n",
        "#   plt.subplot(5,5,i+1)\n",
        "#   plt.xticks([])\n",
        "#   plt.yticks([])\n",
        "#   plt.grid(False)\n",
        "#   plt.imshow(np.squeeze(train_images[i], axis=2), cmap=plt.cm.gray)\n",
        "#   plt.xlabel(train_labels[i])\n",
        "# plt.show()"
      ]
    },
    {
      "cell_type": "markdown",
      "metadata": {
        "id": "phB_hWqFWOQR"
      },
      "source": [
        "We can see from the 25 images above that the digits are about the same size, and they are in the center of the images. Let's verify if this assumption is true across the MNIST dataset."
      ]
    },
    {
      "cell_type": "code",
      "execution_count": null,
      "metadata": {
        "id": "2V0KsvSLVE6I",
        "outputId": "27be5a79-2bb4-48e3-dbb5-9bf5855b1431",
        "colab": {
          "base_uri": "https://localhost:8080/",
          "height": 368
        }
      },
      "outputs": [
        {
          "output_type": "execute_result",
          "data": {
            "text/plain": [
              "array([[<matplotlib.axes._subplots.AxesSubplot object at 0x7f42f80df950>,\n",
              "        <matplotlib.axes._subplots.AxesSubplot object at 0x7f42f8166290>],\n",
              "       [<matplotlib.axes._subplots.AxesSubplot object at 0x7f42f83f8550>,\n",
              "        <matplotlib.axes._subplots.AxesSubplot object at 0x7f42f84f2850>]],\n",
              "      dtype=object)"
            ]
          },
          "metadata": {},
          "execution_count": 6
        },
        {
          "output_type": "display_data",
          "data": {
            "text/plain": [
              "<Figure size 432x288 with 4 Axes>"
            ],
            "image/png": "[encoded data removed]"
          },
          "metadata": {
            "needs_background": "light"
          }
        }
      ],
      "source": [
        "### From prior example notebook\n",
        "# # An utility function that returns where the digit is in the image.\n",
        "# def digit_area(mnist_image):\n",
        "#   # Remove the color axes\n",
        "#   mnist_image = np.squeeze(mnist_image, axis=2)\n",
        "\n",
        "#   # Extract the list of columns that contain at least 1 pixel from the digit\n",
        "#   x_nonzero = np.nonzero(np.amax(mnist_image, 0))\n",
        "#   x_min = np.min(x_nonzero)\n",
        "#   x_max = np.max(x_nonzero)\n",
        "\n",
        "#   # Extract the list of rows that contain at least 1 pixel from the digit\n",
        "#   y_nonzero = np.nonzero(np.amax(mnist_image, 1))\n",
        "#   y_min = np.min(y_nonzero)\n",
        "#   y_max = np.max(y_nonzero)\n",
        "\n",
        "#   return [x_min, x_max, y_min, y_max]\n",
        "\n",
        "# # Calculate the area containing the digit across MNIST dataset\n",
        "# digit_area_rows = []\n",
        "# for image in train_images:\n",
        "#   digit_area_row = digit_area(image)\n",
        "#   digit_area_rows.append(digit_area_row)\n",
        "# digit_area_df = pd.DataFrame(\n",
        "#   digit_area_rows,\n",
        "#   columns=['x_min', 'x_max', 'y_min', 'y_max']\n",
        "# )\n",
        "# digit_area_df.hist()"
      ]
    },
    {
      "cell_type": "markdown",
      "metadata": {
        "id": "GulcBpSRc3CO"
      },
      "source": [
        "Now from the histogram, you can confirm that the digit in MNIST images are fitted nicely in an certain area at the center of the images. \n",
        "\n",
        "![Mnist range](http://download.tensorflow.org/models/tflite/digit_classifier/mnist_range.png)\n",
        "\n",
        "However, when you wrote digits in your Android app, you probably did not pay attention to make sure your digit fit in the virtual area that the digits appear in MNIST dataset. The machine learning model have not seen such data before so it performed poorly, especially when you wrote a digit that was off the center of the drawing pad.\n",
        "\n",
        "Let's add some data augmentation to the MNIST dataset to verify if our assumption is true. We will distort our MNIST dataset by adding:\n",
        "* Rotation\n",
        "* Width and height shift\n",
        "* Shear\n",
        "* Zoom"
      ]
    },
    {
      "cell_type": "code",
      "execution_count": null,
      "metadata": {
        "id": "AC5l3W7bY1td"
      },
      "outputs": [],
      "source": [
        "### From prior example notebook\n",
        "# # Define data augmentation\n",
        "# datagen = keras.preprocessing.image.ImageDataGenerator(\n",
        "#   rotation_range=30,\n",
        "#   width_shift_range=0.25,\n",
        "#   height_shift_range=0.25,\n",
        "#   shear_range=0.25,\n",
        "#   zoom_range=0.2\n",
        "# )\n",
        "\n",
        "# # Generate augmented data from MNIST dataset\n",
        "# train_generator = datagen.flow(train_images, train_labels)\n",
        "# test_generator = datagen.flow(test_images, test_labels)"
      ]
    },
    {
      "cell_type": "code",
      "source": [
        "### I tried data augmentation, but since the number of training data points per letter is less and not equal in quantity, \n",
        "### the augmented data actually performed much worse for the EMNIST data\n",
        "# Define data augmentation\n",
        "datagen = keras.preprocessing.image.ImageDataGenerator(\n",
        "  rotation_range=30,\n",
        "  width_shift_range=0.25,\n",
        "  height_shift_range=0.25,\n",
        "  shear_range=0.25,\n",
        "  zoom_range=0.2\n",
        ")\n",
        "\n",
        "# Generate augmented data from MNIST dataset\n",
        "EMNIST_train_generator = datagen.flow(EMNIST_train_data, EMNIST_train_labels)\n",
        "EMNIST_test_generator = datagen.flow(EMNIST_test_data, EMNIST_test_labels)"
      ],
      "metadata": {
        "id": "tSuKFWmP5R_D"
      },
      "execution_count": null,
      "outputs": []
    },
    {
      "cell_type": "markdown",
      "metadata": {
        "id": "wy1IfuRZjjec"
      },
      "source": [
        "Let's see what our digit images look like after augmentation. You can see that we now clearly have much more variation on how the digits are placed in the images."
      ]
    },
    {
      "cell_type": "code",
      "execution_count": null,
      "metadata": {
        "id": "1G-tWDc2aia1",
        "outputId": "fb886d9e-42bd-4cec-f33b-bbbb9d823040",
        "colab": {
          "base_uri": "https://localhost:8080/",
          "height": 589
        }
      },
      "outputs": [
        {
          "output_type": "display_data",
          "data": {
            "text/plain": [
              "<Figure size 720x720 with 25 Axes>"
            ],
            "image/png": "[encoded data removed]"
          },
          "metadata": {}
        }
      ],
      "source": [
        "### From prior example notebook\n",
        "# augmented_images, augmented_labels = next(train_generator)\n",
        "# plt.figure(figsize=(10,10))\n",
        "# for i in range(25):\n",
        "#     plt.subplot(5,5,i+1)\n",
        "#     plt.xticks([])\n",
        "#     plt.yticks([])\n",
        "#     plt.grid(False)\n",
        "#     plt.imshow(np.squeeze(augmented_images[i], axis=2), cmap=plt.cm.gray)\n",
        "#     plt.xlabel('Label: %d' % augmented_labels[i])\n",
        "# plt.show()"
      ]
    },
    {
      "cell_type": "code",
      "source": [
        "EMNIST_augmented_images, EMNIST_augmented_labels = next(EMNIST_train_generator)\n",
        "plt.figure(figsize=(10,10))\n",
        "for i in range(25):\n",
        "    plt.subplot(5,5,i+1)\n",
        "    plt.xticks([])\n",
        "    plt.yticks([])\n",
        "    plt.grid(False)\n",
        "    plt.imshow(np.squeeze(EMNIST_augmented_images[i], axis=2), cmap=plt.cm.gray)\n",
        "    plt.xlabel('Label: %d' % EMNIST_augmented_labels[i])\n",
        "plt.show()"
      ],
      "metadata": {
        "id": "wDeav_B4MlFZ"
      },
      "execution_count": null,
      "outputs": []
    },
    {
      "cell_type": "markdown",
      "metadata": {
        "id": "G-zys-yNkL4b"
      },
      "source": [
        "Let's evaluate the digit classifier model that we trained earlier on this augmented test dataset and see if it makes accuracy drop."
      ]
    },
    {
      "cell_type": "code",
      "execution_count": null,
      "metadata": {
        "id": "IPnP4xPbjqWi",
        "outputId": "eb6a8144-6192-49e4-a52a-0c81d3a663e4",
        "colab": {
          "base_uri": "https://localhost:8080/"
        }
      },
      "outputs": [
        {
          "output_type": "stream",
          "name": "stdout",
          "text": [
            "313/313 [==============================] - 4s 14ms/step - loss: 5.6497 - accuracy: 0.3371\n"
          ]
        },
        {
          "output_type": "execute_result",
          "data": {
            "text/plain": [
              "[5.649719715118408, 0.33709999918937683]"
            ]
          },
          "metadata": {},
          "execution_count": 9
        }
      ],
      "source": [
        "### From prior example notebook\n",
        "# base_model.evaluate(test_generator)"
      ]
    },
    {
      "cell_type": "markdown",
      "metadata": {
        "id": "AgNlTPPVlDqX"
      },
      "source": [
        "You can see that accuracy significantly dropped to below 40% in augmented test dataset."
      ]
    },
    {
      "cell_type": "markdown",
      "metadata": {
        "id": "Xls8oqBnlcZj"
      },
      "source": [
        "# Improve accuracy with data augmentation\n",
        "\n",
        "Now let's train our model using augmented dataset to make it perform better in deployment."
      ]
    },
    {
      "cell_type": "code",
      "execution_count": null,
      "metadata": {
        "id": "DX4XRgc9k-6s",
        "outputId": "c200391d-7a24-43f7-b3d2-c56aa2bfec3e",
        "colab": {
          "base_uri": "https://localhost:8080/"
        }
      },
      "outputs": [
        {
          "output_type": "stream",
          "name": "stdout",
          "text": [
            "Epoch 1/5\n",
            "1875/1875 [==============================] - 26s 14ms/step - loss: 0.9708 - accuracy: 0.6878 - val_loss: 0.4989 - val_accuracy: 0.8554\n",
            "Epoch 2/5\n",
            "1875/1875 [==============================] - 26s 14ms/step - loss: 0.4774 - accuracy: 0.8568 - val_loss: 0.3561 - val_accuracy: 0.8982\n",
            "Epoch 3/5\n",
            "1875/1875 [==============================] - 25s 13ms/step - loss: 0.3843 - accuracy: 0.8852 - val_loss: 0.2840 - val_accuracy: 0.9155\n",
            "Epoch 4/5\n",
            "1875/1875 [==============================] - 27s 14ms/step - loss: 0.3327 - accuracy: 0.8996 - val_loss: 0.2773 - val_accuracy: 0.9145\n",
            "Epoch 5/5\n",
            "1875/1875 [==============================] - 25s 13ms/step - loss: 0.3052 - accuracy: 0.9084 - val_loss: 0.2668 - val_accuracy: 0.9185\n"
          ]
        },
        {
          "output_type": "execute_result",
          "data": {
            "text/plain": [
              "<keras.callbacks.History at 0x7f424dc17310>"
            ]
          },
          "metadata": {},
          "execution_count": 10
        }
      ],
      "source": [
        "### From prior example notebook\n",
        "# improved_model = create_model()\n",
        "# improved_model.fit(train_generator, epochs=5, validation_data=test_generator)"
      ]
    },
    {
      "cell_type": "code",
      "source": [
        "improved_model = create_model()\n",
        "improved_model.fit(EMNIST_train_generator, epochs=5, validation_data=EMNIST_test_generator)"
      ],
      "metadata": {
        "colab": {
          "base_uri": "https://localhost:8080/"
        },
        "id": "piXe7PZL57k0",
        "outputId": "1d3828ea-dc3a-4d95-ae9d-f6692b4cd720"
      },
      "execution_count": null,
      "outputs": [
        {
          "output_type": "stream",
          "name": "stdout",
          "text": [
            "Epoch 1/5\n",
            "18539/18539 [==============================] - 249s 13ms/step - loss: 1.2439 - accuracy: 0.6444 - val_loss: 0.8859 - val_accuracy: 0.7380\n",
            "Epoch 2/5\n",
            "18539/18539 [==============================] - 241s 13ms/step - loss: 0.8876 - accuracy: 0.7340 - val_loss: 0.7813 - val_accuracy: 0.7641\n",
            "Epoch 3/5\n",
            "18539/18539 [==============================] - 232s 12ms/step - loss: 0.8145 - accuracy: 0.7528 - val_loss: 0.7271 - val_accuracy: 0.7777\n",
            "Epoch 4/5\n",
            "18539/18539 [==============================] - 233s 13ms/step - loss: 0.7783 - accuracy: 0.7626 - val_loss: 0.6986 - val_accuracy: 0.7846\n",
            "Epoch 5/5\n",
            "18539/18539 [==============================] - 231s 12ms/step - loss: 0.7605 - accuracy: 0.7673 - val_loss: 0.6841 - val_accuracy: 0.7891\n"
          ]
        },
        {
          "output_type": "execute_result",
          "data": {
            "text/plain": [
              "<keras.callbacks.History at 0x7fefce840c50>"
            ]
          },
          "metadata": {},
          "execution_count": 15
        }
      ]
    },
    {
      "cell_type": "markdown",
      "metadata": {
        "id": "3UlqZ1XnnJRu"
      },
      "source": [
        "We can see that as the models saw more distorted digit images during training, its accuracy evaluated distorted test digit images were significantly improved to about 90%."
      ]
    },
    {
      "cell_type": "code",
      "source": [
        "# Empty dis junk, we no need it no more, gotta save $$$ and not go premium loool\n",
        "EMNIST_train_generator = []\n",
        "EMNIST_train_data = []\n",
        "EMNIST_train_labels = []\n",
        "EMNIST_test_generator = []\n",
        "EMNIST_test_data = []\n",
        "EMNIST_test_labels = []"
      ],
      "metadata": {
        "id": "YqUyI2jQ9S-6"
      },
      "execution_count": null,
      "outputs": []
    },
    {
      "cell_type": "markdown",
      "metadata": {
        "id": "fsI4mHtbpE_A"
      },
      "source": [
        "# Convert to TensorFlow Lite\n",
        "\n",
        "Let's convert the improved model to TensorFlow Lite and redeploy to the Android app."
      ]
    },
    {
      "cell_type": "code",
      "execution_count": null,
      "metadata": {
        "id": "a0l6HcBTmh7-"
      },
      "outputs": [],
      "source": [
        "### From prior example notebook\n",
        "# # Convert Keras model to TF Lite format and quantize.\n",
        "# converter = tf.lite.TFLiteConverter.from_keras_model(improved_model)\n",
        "# converter.optimizations = [tf.lite.Optimize.DEFAULT]\n",
        "# tflite_quantized_model = converter.convert()\n",
        "\n",
        "# # Save the quantized model to file to the Downloads directory\n",
        "# f = open('mnist.tflite', \"wb\")\n",
        "# f.write(tflite_quantized_model)\n",
        "# f.close()\n",
        "\n",
        "# # Download the digit classification model\n",
        "# from google.colab import files\n",
        "# files.download('mnist.tflite')"
      ]
    },
    {
      "cell_type": "code",
      "source": [
        "# Convert Keras model to TF Lite format and quantize.\n",
        "converter = tf.lite.TFLiteConverter.from_keras_model(EMNIST_base_model)\n",
        "converter.optimizations = [tf.lite.Optimize.DEFAULT]\n",
        "tflite_quantized_model = converter.convert()\n",
        "\n",
        "# Save the quantized model to file to the Downloads directory\n",
        "f = open('emnist.tflite', \"wb\")\n",
        "f.write(tflite_quantized_model)\n",
        "f.close()\n",
        "\n",
        "# Download the digit classification model\n",
        "from google.colab import files\n",
        "files.download('mnist.tflite')"
      ],
      "metadata": {
        "colab": {
          "base_uri": "https://localhost:8080/",
          "height": 69
        },
        "id": "QCo8q5362NiY",
        "outputId": "55184f86-2f44-44d8-fe74-b67ff084e529"
      },
      "execution_count": null,
      "outputs": [
        {
          "output_type": "stream",
          "name": "stdout",
          "text": [
            "INFO:tensorflow:Assets written to: /tmp/tmp_opqif_3/assets\n"
          ]
        },
        {
          "output_type": "stream",
          "name": "stderr",
          "text": [
            "INFO:tensorflow:Assets written to: /tmp/tmp_opqif_3/assets\n",
            "WARNING:absl:Buffer deduplication procedure will be skipped when flatbuffer library is not properly loaded\n"
          ]
        },
        {
          "output_type": "display_data",
          "data": {
            "text/plain": [
              "<IPython.core.display.Javascript object>"
            ],
            "application/javascript": [
              "\n",
              "    async function download(id, filename, size) {\n",
              "      if (!google.colab.kernel.accessAllowed) {\n",
              "        return;\n",
              "      }\n",
              "      const div = document.createElement('div');\n",
              "      const label = document.createElement('label');\n",
              "      label.textContent = `Downloading \"${filename}\": `;\n",
              "      div.appendChild(label);\n",
              "      const progress = document.createElement('progress');\n",
              "      progress.max = size;\n",
              "      div.appendChild(progress);\n",
              "      document.body.appendChild(div);\n",
              "\n",
              "      const buffers = [];\n",
              "      let downloaded = 0;\n",
              "\n",
              "      const channel = await google.colab.kernel.comms.open(id);\n",
              "      // Send a message to notify the kernel that we're ready.\n",
              "      channel.send({})\n",
              "\n",
              "      for await (const message of channel.messages) {\n",
              "        // Send a message to notify the kernel that we're ready.\n",
              "        channel.send({})\n",
              "        if (message.buffers) {\n",
              "          for (const buffer of message.buffers) {\n",
              "            buffers.push(buffer);\n",
              "            downloaded += buffer.byteLength;\n",
              "            progress.value = downloaded;\n",
              "          }\n",
              "        }\n",
              "      }\n",
              "      const blob = new Blob(buffers, {type: 'application/binary'});\n",
              "      const a = document.createElement('a');\n",
              "      a.href = window.URL.createObjectURL(blob);\n",
              "      a.download = filename;\n",
              "      div.appendChild(a);\n",
              "      a.click();\n",
              "      div.remove();\n",
              "    }\n",
              "  "
            ]
          },
          "metadata": {}
        },
        {
          "output_type": "display_data",
          "data": {
            "text/plain": [
              "<IPython.core.display.Javascript object>"
            ],
            "application/javascript": [
              "download(\"download_e3df512a-4006-492b-bf62-9af84d9b39e4\", \"mnist.tflite\", 457280)"
            ]
          },
          "metadata": {}
        }
      ]
    },
    {
      "cell_type": "markdown",
      "metadata": {
        "id": "CAp7mKIkrfjY"
      },
      "source": [
        "## Good job!\n",
        "This is the end of *Improve model accuracy with data augmentation* in the codelab **Build a handwritten digit classifier app with TensorFlow Lite**. You can repeat [step 3](https://codelabs.developers.google.com/codelabs/digit-classifier-tflite/#2) to redeploy the improved model to your Android app and see if accuracy has been improved."
      ]
    }
  ],
  "metadata": {
    "accelerator": "GPU",
    "colab": {
      "collapsed_sections": [],
      "name": "EMNIST_TF_Lite.ipynb",
      "toc_visible": true,
      "provenance": []
    },
    "kernelspec": {
      "display_name": "Python 3",
      "name": "python3"
    },
    "widgets": {
      "application/vnd.jupyter.widget-state+json": {
        "5a0c1d0fb98940af860b83b2efc9ea5f": {
          "model_module": "@jupyter-widgets/controls",
          "model_name": "HBoxModel",
          "model_module_version": "1.5.0",
          "state": {
            "_dom_classes": [],
            "_model_module": "@jupyter-widgets/controls",
            "_model_module_version": "1.5.0",
            "_model_name": "HBoxModel",
            "_view_count": null,
            "_view_module": "@jupyter-widgets/controls",
            "_view_module_version": "1.5.0",
            "_view_name": "HBoxView",
            "box_style": "",
            "children": [
              "IPY_MODEL_06be38a558dc4f0e875e1411fb93fe2b",
              "IPY_MODEL_5dc22d5ac8294e55a9598ff8e676a69f",
              "IPY_MODEL_b89fc295997643b1b6b484bd863704a7"
            ],
            "layout": "IPY_MODEL_7702cf0ac4ba4b8c96fd2b2b11f35650"
          }
        },
        "06be38a558dc4f0e875e1411fb93fe2b": {
          "model_module": "@jupyter-widgets/controls",
          "model_name": "HTMLModel",
          "model_module_version": "1.5.0",
          "state": {
            "_dom_classes": [],
            "_model_module": "@jupyter-widgets/controls",
            "_model_module_version": "1.5.0",
            "_model_name": "HTMLModel",
            "_view_count": null,
            "_view_module": "@jupyter-widgets/controls",
            "_view_module_version": "1.5.0",
            "_view_name": "HTMLView",
            "description": "",
            "description_tooltip": null,
            "layout": "IPY_MODEL_272f3f1a5221420c8af0e391e1dd35e8",
            "placeholder": "​",
            "style": "IPY_MODEL_4e442a5a066f4533a501ae7bab32da1c",
            "value": "Dl Completed...: 100%"
          }
        },
        "5dc22d5ac8294e55a9598ff8e676a69f": {
          "model_module": "@jupyter-widgets/controls",
          "model_name": "FloatProgressModel",
          "model_module_version": "1.5.0",
          "state": {
            "_dom_classes": [],
            "_model_module": "@jupyter-widgets/controls",
            "_model_module_version": "1.5.0",
            "_model_name": "FloatProgressModel",
            "_view_count": null,
            "_view_module": "@jupyter-widgets/controls",
            "_view_module_version": "1.5.0",
            "_view_name": "ProgressView",
            "bar_style": "success",
            "description": "",
            "description_tooltip": null,
            "layout": "IPY_MODEL_df091353c2764c118c853f9c7900fb66",
            "max": 1,
            "min": 0,
            "orientation": "horizontal",
            "style": "IPY_MODEL_9a55a094ead9424d8111bc10750fdf7e",
            "value": 1
          }
        },
        "b89fc295997643b1b6b484bd863704a7": {
          "model_module": "@jupyter-widgets/controls",
          "model_name": "HTMLModel",
          "model_module_version": "1.5.0",
          "state": {
            "_dom_classes": [],
            "_model_module": "@jupyter-widgets/controls",
            "_model_module_version": "1.5.0",
            "_model_name": "HTMLModel",
            "_view_count": null,
            "_view_module": "@jupyter-widgets/controls",
            "_view_module_version": "1.5.0",
            "_view_name": "HTMLView",
            "description": "",
            "description_tooltip": null,
            "layout": "IPY_MODEL_4326d8d858ec4194a89677d998b0a471",
            "placeholder": "​",
            "style": "IPY_MODEL_a78182deddde49a99c61ce7a048355e6",
            "value": " 1/1 [00:18&lt;00:00, 15.67s/ url]"
          }
        },
        "7702cf0ac4ba4b8c96fd2b2b11f35650": {
          "model_module": "@jupyter-widgets/base",
          "model_name": "LayoutModel",
          "model_module_version": "1.2.0",
          "state": {
            "_model_module": "@jupyter-widgets/base",
            "_model_module_version": "1.2.0",
            "_model_name": "LayoutModel",
            "_view_count": null,
            "_view_module": "@jupyter-widgets/base",
            "_view_module_version": "1.2.0",
            "_view_name": "LayoutView",
            "align_content": null,
            "align_items": null,
            "align_self": null,
            "border": null,
            "bottom": null,
            "display": null,
            "flex": null,
            "flex_flow": null,
            "grid_area": null,
            "grid_auto_columns": null,
            "grid_auto_flow": null,
            "grid_auto_rows": null,
            "grid_column": null,
            "grid_gap": null,
            "grid_row": null,
            "grid_template_areas": null,
            "grid_template_columns": null,
            "grid_template_rows": null,
            "height": null,
            "justify_content": null,
            "justify_items": null,
            "left": null,
            "margin": null,
            "max_height": null,
            "max_width": null,
            "min_height": null,
            "min_width": null,
            "object_fit": null,
            "object_position": null,
            "order": null,
            "overflow": null,
            "overflow_x": null,
            "overflow_y": null,
            "padding": null,
            "right": null,
            "top": null,
            "visibility": null,
            "width": null
          }
        },
        "272f3f1a5221420c8af0e391e1dd35e8": {
          "model_module": "@jupyter-widgets/base",
          "model_name": "LayoutModel",
          "model_module_version": "1.2.0",
          "state": {
            "_model_module": "@jupyter-widgets/base",
            "_model_module_version": "1.2.0",
            "_model_name": "LayoutModel",
            "_view_count": null,
            "_view_module": "@jupyter-widgets/base",
            "_view_module_version": "1.2.0",
            "_view_name": "LayoutView",
            "align_content": null,
            "align_items": null,
            "align_self": null,
            "border": null,
            "bottom": null,
            "display": null,
            "flex": null,
            "flex_flow": null,
            "grid_area": null,
            "grid_auto_columns": null,
            "grid_auto_flow": null,
            "grid_auto_rows": null,
            "grid_column": null,
            "grid_gap": null,
            "grid_row": null,
            "grid_template_areas": null,
            "grid_template_columns": null,
            "grid_template_rows": null,
            "height": null,
            "justify_content": null,
            "justify_items": null,
            "left": null,
            "margin": null,
            "max_height": null,
            "max_width": null,
            "min_height": null,
            "min_width": null,
            "object_fit": null,
            "object_position": null,
            "order": null,
            "overflow": null,
            "overflow_x": null,
            "overflow_y": null,
            "padding": null,
            "right": null,
            "top": null,
            "visibility": null,
            "width": null
          }
        },
        "4e442a5a066f4533a501ae7bab32da1c": {
          "model_module": "@jupyter-widgets/controls",
          "model_name": "DescriptionStyleModel",
          "model_module_version": "1.5.0",
          "state": {
            "_model_module": "@jupyter-widgets/controls",
            "_model_module_version": "1.5.0",
            "_model_name": "DescriptionStyleModel",
            "_view_count": null,
            "_view_module": "@jupyter-widgets/base",
            "_view_module_version": "1.2.0",
            "_view_name": "StyleView",
            "description_width": ""
          }
        },
        "df091353c2764c118c853f9c7900fb66": {
          "model_module": "@jupyter-widgets/base",
          "model_name": "LayoutModel",
          "model_module_version": "1.2.0",
          "state": {
            "_model_module": "@jupyter-widgets/base",
            "_model_module_version": "1.2.0",
            "_model_name": "LayoutModel",
            "_view_count": null,
            "_view_module": "@jupyter-widgets/base",
            "_view_module_version": "1.2.0",
            "_view_name": "LayoutView",
            "align_content": null,
            "align_items": null,
            "align_self": null,
            "border": null,
            "bottom": null,
            "display": null,
            "flex": null,
            "flex_flow": null,
            "grid_area": null,
            "grid_auto_columns": null,
            "grid_auto_flow": null,
            "grid_auto_rows": null,
            "grid_column": null,
            "grid_gap": null,
            "grid_row": null,
            "grid_template_areas": null,
            "grid_template_columns": null,
            "grid_template_rows": null,
            "height": null,
            "justify_content": null,
            "justify_items": null,
            "left": null,
            "margin": null,
            "max_height": null,
            "max_width": null,
            "min_height": null,
            "min_width": null,
            "object_fit": null,
            "object_position": null,
            "order": null,
            "overflow": null,
            "overflow_x": null,
            "overflow_y": null,
            "padding": null,
            "right": null,
            "top": null,
            "visibility": null,
            "width": "20px"
          }
        },
        "9a55a094ead9424d8111bc10750fdf7e": {
          "model_module": "@jupyter-widgets/controls",
          "model_name": "ProgressStyleModel",
          "model_module_version": "1.5.0",
          "state": {
            "_model_module": "@jupyter-widgets/controls",
            "_model_module_version": "1.5.0",
            "_model_name": "ProgressStyleModel",
            "_view_count": null,
            "_view_module": "@jupyter-widgets/base",
            "_view_module_version": "1.2.0",
            "_view_name": "StyleView",
            "bar_color": null,
            "description_width": ""
          }
        },
        "4326d8d858ec4194a89677d998b0a471": {
          "model_module": "@jupyter-widgets/base",
          "model_name": "LayoutModel",
          "model_module_version": "1.2.0",
          "state": {
            "_model_module": "@jupyter-widgets/base",
            "_model_module_version": "1.2.0",
            "_model_name": "LayoutModel",
            "_view_count": null,
            "_view_module": "@jupyter-widgets/base",
            "_view_module_version": "1.2.0",
            "_view_name": "LayoutView",
            "align_content": null,
            "align_items": null,
            "align_self": null,
            "border": null,
            "bottom": null,
            "display": null,
            "flex": null,
            "flex_flow": null,
            "grid_area": null,
            "grid_auto_columns": null,
            "grid_auto_flow": null,
            "grid_auto_rows": null,
            "grid_column": null,
            "grid_gap": null,
            "grid_row": null,
            "grid_template_areas": null,
            "grid_template_columns": null,
            "grid_template_rows": null,
            "height": null,
            "justify_content": null,
            "justify_items": null,
            "left": null,
            "margin": null,
            "max_height": null,
            "max_width": null,
            "min_height": null,
            "min_width": null,
            "object_fit": null,
            "object_position": null,
            "order": null,
            "overflow": null,
            "overflow_x": null,
            "overflow_y": null,
            "padding": null,
            "right": null,
            "top": null,
            "visibility": null,
            "width": null
          }
        },
        "a78182deddde49a99c61ce7a048355e6": {
          "model_module": "@jupyter-widgets/controls",
          "model_name": "DescriptionStyleModel",
          "model_module_version": "1.5.0",
          "state": {
            "_model_module": "@jupyter-widgets/controls",
            "_model_module_version": "1.5.0",
            "_model_name": "DescriptionStyleModel",
            "_view_count": null,
            "_view_module": "@jupyter-widgets/base",
            "_view_module_version": "1.2.0",
            "_view_name": "StyleView",
            "description_width": ""
          }
        },
        "3cf9069774b44044a9b54bbedb63dca1": {
          "model_module": "@jupyter-widgets/controls",
          "model_name": "HBoxModel",
          "model_module_version": "1.5.0",
          "state": {
            "_dom_classes": [],
            "_model_module": "@jupyter-widgets/controls",
            "_model_module_version": "1.5.0",
            "_model_name": "HBoxModel",
            "_view_count": null,
            "_view_module": "@jupyter-widgets/controls",
            "_view_module_version": "1.5.0",
            "_view_name": "HBoxView",
            "box_style": "",
            "children": [
              "IPY_MODEL_8edcd9a8a995418aa166b49c7a6ecc4e",
              "IPY_MODEL_e3cdf519dd234d69a5345d6bfd1b5ce3",
              "IPY_MODEL_5d83b42c815140cfbbd1a3d51ed17f9a"
            ],
            "layout": "IPY_MODEL_b3243818fc8a41d6aa5a7903fb5bbc5d"
          }
        },
        "8edcd9a8a995418aa166b49c7a6ecc4e": {
          "model_module": "@jupyter-widgets/controls",
          "model_name": "HTMLModel",
          "model_module_version": "1.5.0",
          "state": {
            "_dom_classes": [],
            "_model_module": "@jupyter-widgets/controls",
            "_model_module_version": "1.5.0",
            "_model_name": "HTMLModel",
            "_view_count": null,
            "_view_module": "@jupyter-widgets/controls",
            "_view_module_version": "1.5.0",
            "_view_name": "HTMLView",
            "description": "",
            "description_tooltip": null,
            "layout": "IPY_MODEL_5339cbbd2eef4b50bf4c055d71061596",
            "placeholder": "​",
            "style": "IPY_MODEL_32631a1237d549aebed2eacb4d55db43",
            "value": "Dl Size...: 100%"
          }
        },
        "e3cdf519dd234d69a5345d6bfd1b5ce3": {
          "model_module": "@jupyter-widgets/controls",
          "model_name": "FloatProgressModel",
          "model_module_version": "1.5.0",
          "state": {
            "_dom_classes": [],
            "_model_module": "@jupyter-widgets/controls",
            "_model_module_version": "1.5.0",
            "_model_name": "FloatProgressModel",
            "_view_count": null,
            "_view_module": "@jupyter-widgets/controls",
            "_view_module_version": "1.5.0",
            "_view_name": "ProgressView",
            "bar_style": "success",
            "description": "",
            "description_tooltip": null,
            "layout": "IPY_MODEL_40c30864881e4443bc55ba0f8af27e55",
            "max": 1,
            "min": 0,
            "orientation": "horizontal",
            "style": "IPY_MODEL_5f0c943ca12447b1a87a557654266375",
            "value": 1
          }
        },
        "5d83b42c815140cfbbd1a3d51ed17f9a": {
          "model_module": "@jupyter-widgets/controls",
          "model_name": "HTMLModel",
          "model_module_version": "1.5.0",
          "state": {
            "_dom_classes": [],
            "_model_module": "@jupyter-widgets/controls",
            "_model_module_version": "1.5.0",
            "_model_name": "HTMLModel",
            "_view_count": null,
            "_view_module": "@jupyter-widgets/controls",
            "_view_module_version": "1.5.0",
            "_view_name": "HTMLView",
            "description": "",
            "description_tooltip": null,
            "layout": "IPY_MODEL_9feea210518945bf97c0269834806aa4",
            "placeholder": "​",
            "style": "IPY_MODEL_c78c974bb8c8495bbcc39508e927fa7a",
            "value": " 535/535 [00:18&lt;00:00, 46.86 MiB/s]"
          }
        },
        "b3243818fc8a41d6aa5a7903fb5bbc5d": {
          "model_module": "@jupyter-widgets/base",
          "model_name": "LayoutModel",
          "model_module_version": "1.2.0",
          "state": {
            "_model_module": "@jupyter-widgets/base",
            "_model_module_version": "1.2.0",
            "_model_name": "LayoutModel",
            "_view_count": null,
            "_view_module": "@jupyter-widgets/base",
            "_view_module_version": "1.2.0",
            "_view_name": "LayoutView",
            "align_content": null,
            "align_items": null,
            "align_self": null,
            "border": null,
            "bottom": null,
            "display": null,
            "flex": null,
            "flex_flow": null,
            "grid_area": null,
            "grid_auto_columns": null,
            "grid_auto_flow": null,
            "grid_auto_rows": null,
            "grid_column": null,
            "grid_gap": null,
            "grid_row": null,
            "grid_template_areas": null,
            "grid_template_columns": null,
            "grid_template_rows": null,
            "height": null,
            "justify_content": null,
            "justify_items": null,
            "left": null,
            "margin": null,
            "max_height": null,
            "max_width": null,
            "min_height": null,
            "min_width": null,
            "object_fit": null,
            "object_position": null,
            "order": null,
            "overflow": null,
            "overflow_x": null,
            "overflow_y": null,
            "padding": null,
            "right": null,
            "top": null,
            "visibility": null,
            "width": null
          }
        },
        "5339cbbd2eef4b50bf4c055d71061596": {
          "model_module": "@jupyter-widgets/base",
          "model_name": "LayoutModel",
          "model_module_version": "1.2.0",
          "state": {
            "_model_module": "@jupyter-widgets/base",
            "_model_module_version": "1.2.0",
            "_model_name": "LayoutModel",
            "_view_count": null,
            "_view_module": "@jupyter-widgets/base",
            "_view_module_version": "1.2.0",
            "_view_name": "LayoutView",
            "align_content": null,
            "align_items": null,
            "align_self": null,
            "border": null,
            "bottom": null,
            "display": null,
            "flex": null,
            "flex_flow": null,
            "grid_area": null,
            "grid_auto_columns": null,
            "grid_auto_flow": null,
            "grid_auto_rows": null,
            "grid_column": null,
            "grid_gap": null,
            "grid_row": null,
            "grid_template_areas": null,
            "grid_template_columns": null,
            "grid_template_rows": null,
            "height": null,
            "justify_content": null,
            "justify_items": null,
            "left": null,
            "margin": null,
            "max_height": null,
            "max_width": null,
            "min_height": null,
            "min_width": null,
            "object_fit": null,
            "object_position": null,
            "order": null,
            "overflow": null,
            "overflow_x": null,
            "overflow_y": null,
            "padding": null,
            "right": null,
            "top": null,
            "visibility": null,
            "width": null
          }
        },
        "32631a1237d549aebed2eacb4d55db43": {
          "model_module": "@jupyter-widgets/controls",
          "model_name": "DescriptionStyleModel",
          "model_module_version": "1.5.0",
          "state": {
            "_model_module": "@jupyter-widgets/controls",
            "_model_module_version": "1.5.0",
            "_model_name": "DescriptionStyleModel",
            "_view_count": null,
            "_view_module": "@jupyter-widgets/base",
            "_view_module_version": "1.2.0",
            "_view_name": "StyleView",
            "description_width": ""
          }
        },
        "40c30864881e4443bc55ba0f8af27e55": {
          "model_module": "@jupyter-widgets/base",
          "model_name": "LayoutModel",
          "model_module_version": "1.2.0",
          "state": {
            "_model_module": "@jupyter-widgets/base",
            "_model_module_version": "1.2.0",
            "_model_name": "LayoutModel",
            "_view_count": null,
            "_view_module": "@jupyter-widgets/base",
            "_view_module_version": "1.2.0",
            "_view_name": "LayoutView",
            "align_content": null,
            "align_items": null,
            "align_self": null,
            "border": null,
            "bottom": null,
            "display": null,
            "flex": null,
            "flex_flow": null,
            "grid_area": null,
            "grid_auto_columns": null,
            "grid_auto_flow": null,
            "grid_auto_rows": null,
            "grid_column": null,
            "grid_gap": null,
            "grid_row": null,
            "grid_template_areas": null,
            "grid_template_columns": null,
            "grid_template_rows": null,
            "height": null,
            "justify_content": null,
            "justify_items": null,
            "left": null,
            "margin": null,
            "max_height": null,
            "max_width": null,
            "min_height": null,
            "min_width": null,
            "object_fit": null,
            "object_position": null,
            "order": null,
            "overflow": null,
            "overflow_x": null,
            "overflow_y": null,
            "padding": null,
            "right": null,
            "top": null,
            "visibility": null,
            "width": "20px"
          }
        },
        "5f0c943ca12447b1a87a557654266375": {
          "model_module": "@jupyter-widgets/controls",
          "model_name": "ProgressStyleModel",
          "model_module_version": "1.5.0",
          "state": {
            "_model_module": "@jupyter-widgets/controls",
            "_model_module_version": "1.5.0",
            "_model_name": "ProgressStyleModel",
            "_view_count": null,
            "_view_module": "@jupyter-widgets/base",
            "_view_module_version": "1.2.0",
            "_view_name": "StyleView",
            "bar_color": null,
            "description_width": ""
          }
        },
        "9feea210518945bf97c0269834806aa4": {
          "model_module": "@jupyter-widgets/base",
          "model_name": "LayoutModel",
          "model_module_version": "1.2.0",
          "state": {
            "_model_module": "@jupyter-widgets/base",
            "_model_module_version": "1.2.0",
            "_model_name": "LayoutModel",
            "_view_count": null,
            "_view_module": "@jupyter-widgets/base",
            "_view_module_version": "1.2.0",
            "_view_name": "LayoutView",
            "align_content": null,
            "align_items": null,
            "align_self": null,
            "border": null,
            "bottom": null,
            "display": null,
            "flex": null,
            "flex_flow": null,
            "grid_area": null,
            "grid_auto_columns": null,
            "grid_auto_flow": null,
            "grid_auto_rows": null,
            "grid_column": null,
            "grid_gap": null,
            "grid_row": null,
            "grid_template_areas": null,
            "grid_template_columns": null,
            "grid_template_rows": null,
            "height": null,
            "justify_content": null,
            "justify_items": null,
            "left": null,
            "margin": null,
            "max_height": null,
            "max_width": null,
            "min_height": null,
            "min_width": null,
            "object_fit": null,
            "object_position": null,
            "order": null,
            "overflow": null,
            "overflow_x": null,
            "overflow_y": null,
            "padding": null,
            "right": null,
            "top": null,
            "visibility": null,
            "width": null
          }
        },
        "c78c974bb8c8495bbcc39508e927fa7a": {
          "model_module": "@jupyter-widgets/controls",
          "model_name": "DescriptionStyleModel",
          "model_module_version": "1.5.0",
          "state": {
            "_model_module": "@jupyter-widgets/controls",
            "_model_module_version": "1.5.0",
            "_model_name": "DescriptionStyleModel",
            "_view_count": null,
            "_view_module": "@jupyter-widgets/base",
            "_view_module_version": "1.2.0",
            "_view_name": "StyleView",
            "description_width": ""
          }
        },
        "982a6f3e2c774636bb26fa4bb44ce656": {
          "model_module": "@jupyter-widgets/controls",
          "model_name": "HBoxModel",
          "model_module_version": "1.5.0",
          "state": {
            "_dom_classes": [],
            "_model_module": "@jupyter-widgets/controls",
            "_model_module_version": "1.5.0",
            "_model_name": "HBoxModel",
            "_view_count": null,
            "_view_module": "@jupyter-widgets/controls",
            "_view_module_version": "1.5.0",
            "_view_name": "HBoxView",
            "box_style": "",
            "children": [
              "IPY_MODEL_095f3e1134444ab690ab240c3c9cd824",
              "IPY_MODEL_739f456978494039aed79ef34ee3e72c",
              "IPY_MODEL_5027aa2ac66e4a3585eb3bb0b8281cc5"
            ],
            "layout": "IPY_MODEL_9837667376a5414db75bce73b42355b8"
          }
        },
        "095f3e1134444ab690ab240c3c9cd824": {
          "model_module": "@jupyter-widgets/controls",
          "model_name": "HTMLModel",
          "model_module_version": "1.5.0",
          "state": {
            "_dom_classes": [],
            "_model_module": "@jupyter-widgets/controls",
            "_model_module_version": "1.5.0",
            "_model_name": "HTMLModel",
            "_view_count": null,
            "_view_module": "@jupyter-widgets/controls",
            "_view_module_version": "1.5.0",
            "_view_name": "HTMLView",
            "description": "",
            "description_tooltip": null,
            "layout": "IPY_MODEL_9b6a63d45c2f438eb3813f0be25573bd",
            "placeholder": "​",
            "style": "IPY_MODEL_6991cd9ac2c74e37a00796dbdf44cba2",
            "value": "Extraction completed...: 100%"
          }
        },
        "739f456978494039aed79ef34ee3e72c": {
          "model_module": "@jupyter-widgets/controls",
          "model_name": "FloatProgressModel",
          "model_module_version": "1.5.0",
          "state": {
            "_dom_classes": [],
            "_model_module": "@jupyter-widgets/controls",
            "_model_module_version": "1.5.0",
            "_model_name": "FloatProgressModel",
            "_view_count": null,
            "_view_module": "@jupyter-widgets/controls",
            "_view_module_version": "1.5.0",
            "_view_name": "ProgressView",
            "bar_style": "success",
            "description": "",
            "description_tooltip": null,
            "layout": "IPY_MODEL_d95e41af44ff421aa28bd6e45e852441",
            "max": 1,
            "min": 0,
            "orientation": "horizontal",
            "style": "IPY_MODEL_551a0807fa8d4b7ba00f2d87d76e53b9",
            "value": 1
          }
        },
        "5027aa2ac66e4a3585eb3bb0b8281cc5": {
          "model_module": "@jupyter-widgets/controls",
          "model_name": "HTMLModel",
          "model_module_version": "1.5.0",
          "state": {
            "_dom_classes": [],
            "_model_module": "@jupyter-widgets/controls",
            "_model_module_version": "1.5.0",
            "_model_name": "HTMLModel",
            "_view_count": null,
            "_view_module": "@jupyter-widgets/controls",
            "_view_module_version": "1.5.0",
            "_view_name": "HTMLView",
            "description": "",
            "description_tooltip": null,
            "layout": "IPY_MODEL_b1c22f5092fe47cea227db3514f8c0cb",
            "placeholder": "​",
            "style": "IPY_MODEL_b325d25fc98946b596a86ef8fb9a5f25",
            "value": " 1/1 [00:18&lt;00:00, 18.60s/ file]"
          }
        },
        "9837667376a5414db75bce73b42355b8": {
          "model_module": "@jupyter-widgets/base",
          "model_name": "LayoutModel",
          "model_module_version": "1.2.0",
          "state": {
            "_model_module": "@jupyter-widgets/base",
            "_model_module_version": "1.2.0",
            "_model_name": "LayoutModel",
            "_view_count": null,
            "_view_module": "@jupyter-widgets/base",
            "_view_module_version": "1.2.0",
            "_view_name": "LayoutView",
            "align_content": null,
            "align_items": null,
            "align_self": null,
            "border": null,
            "bottom": null,
            "display": null,
            "flex": null,
            "flex_flow": null,
            "grid_area": null,
            "grid_auto_columns": null,
            "grid_auto_flow": null,
            "grid_auto_rows": null,
            "grid_column": null,
            "grid_gap": null,
            "grid_row": null,
            "grid_template_areas": null,
            "grid_template_columns": null,
            "grid_template_rows": null,
            "height": null,
            "justify_content": null,
            "justify_items": null,
            "left": null,
            "margin": null,
            "max_height": null,
            "max_width": null,
            "min_height": null,
            "min_width": null,
            "object_fit": null,
            "object_position": null,
            "order": null,
            "overflow": null,
            "overflow_x": null,
            "overflow_y": null,
            "padding": null,
            "right": null,
            "top": null,
            "visibility": null,
            "width": null
          }
        },
        "9b6a63d45c2f438eb3813f0be25573bd": {
          "model_module": "@jupyter-widgets/base",
          "model_name": "LayoutModel",
          "model_module_version": "1.2.0",
          "state": {
            "_model_module": "@jupyter-widgets/base",
            "_model_module_version": "1.2.0",
            "_model_name": "LayoutModel",
            "_view_count": null,
            "_view_module": "@jupyter-widgets/base",
            "_view_module_version": "1.2.0",
            "_view_name": "LayoutView",
            "align_content": null,
            "align_items": null,
            "align_self": null,
            "border": null,
            "bottom": null,
            "display": null,
            "flex": null,
            "flex_flow": null,
            "grid_area": null,
            "grid_auto_columns": null,
            "grid_auto_flow": null,
            "grid_auto_rows": null,
            "grid_column": null,
            "grid_gap": null,
            "grid_row": null,
            "grid_template_areas": null,
            "grid_template_columns": null,
            "grid_template_rows": null,
            "height": null,
            "justify_content": null,
            "justify_items": null,
            "left": null,
            "margin": null,
            "max_height": null,
            "max_width": null,
            "min_height": null,
            "min_width": null,
            "object_fit": null,
            "object_position": null,
            "order": null,
            "overflow": null,
            "overflow_x": null,
            "overflow_y": null,
            "padding": null,
            "right": null,
            "top": null,
            "visibility": null,
            "width": null
          }
        },
        "6991cd9ac2c74e37a00796dbdf44cba2": {
          "model_module": "@jupyter-widgets/controls",
          "model_name": "DescriptionStyleModel",
          "model_module_version": "1.5.0",
          "state": {
            "_model_module": "@jupyter-widgets/controls",
            "_model_module_version": "1.5.0",
            "_model_name": "DescriptionStyleModel",
            "_view_count": null,
            "_view_module": "@jupyter-widgets/base",
            "_view_module_version": "1.2.0",
            "_view_name": "StyleView",
            "description_width": ""
          }
        },
        "d95e41af44ff421aa28bd6e45e852441": {
          "model_module": "@jupyter-widgets/base",
          "model_name": "LayoutModel",
          "model_module_version": "1.2.0",
          "state": {
            "_model_module": "@jupyter-widgets/base",
            "_model_module_version": "1.2.0",
            "_model_name": "LayoutModel",
            "_view_count": null,
            "_view_module": "@jupyter-widgets/base",
            "_view_module_version": "1.2.0",
            "_view_name": "LayoutView",
            "align_content": null,
            "align_items": null,
            "align_self": null,
            "border": null,
            "bottom": null,
            "display": null,
            "flex": null,
            "flex_flow": null,
            "grid_area": null,
            "grid_auto_columns": null,
            "grid_auto_flow": null,
            "grid_auto_rows": null,
            "grid_column": null,
            "grid_gap": null,
            "grid_row": null,
            "grid_template_areas": null,
            "grid_template_columns": null,
            "grid_template_rows": null,
            "height": null,
            "justify_content": null,
            "justify_items": null,
            "left": null,
            "margin": null,
            "max_height": null,
            "max_width": null,
            "min_height": null,
            "min_width": null,
            "object_fit": null,
            "object_position": null,
            "order": null,
            "overflow": null,
            "overflow_x": null,
            "overflow_y": null,
            "padding": null,
            "right": null,
            "top": null,
            "visibility": null,
            "width": "20px"
          }
        },
        "551a0807fa8d4b7ba00f2d87d76e53b9": {
          "model_module": "@jupyter-widgets/controls",
          "model_name": "ProgressStyleModel",
          "model_module_version": "1.5.0",
          "state": {
            "_model_module": "@jupyter-widgets/controls",
            "_model_module_version": "1.5.0",
            "_model_name": "ProgressStyleModel",
            "_view_count": null,
            "_view_module": "@jupyter-widgets/base",
            "_view_module_version": "1.2.0",
            "_view_name": "StyleView",
            "bar_color": null,
            "description_width": ""
          }
        },
        "b1c22f5092fe47cea227db3514f8c0cb": {
          "model_module": "@jupyter-widgets/base",
          "model_name": "LayoutModel",
          "model_module_version": "1.2.0",
          "state": {
            "_model_module": "@jupyter-widgets/base",
            "_model_module_version": "1.2.0",
            "_model_name": "LayoutModel",
            "_view_count": null,
            "_view_module": "@jupyter-widgets/base",
            "_view_module_version": "1.2.0",
            "_view_name": "LayoutView",
            "align_content": null,
            "align_items": null,
            "align_self": null,
            "border": null,
            "bottom": null,
            "display": null,
            "flex": null,
            "flex_flow": null,
            "grid_area": null,
            "grid_auto_columns": null,
            "grid_auto_flow": null,
            "grid_auto_rows": null,
            "grid_column": null,
            "grid_gap": null,
            "grid_row": null,
            "grid_template_areas": null,
            "grid_template_columns": null,
            "grid_template_rows": null,
            "height": null,
            "justify_content": null,
            "justify_items": null,
            "left": null,
            "margin": null,
            "max_height": null,
            "max_width": null,
            "min_height": null,
            "min_width": null,
            "object_fit": null,
            "object_position": null,
            "order": null,
            "overflow": null,
            "overflow_x": null,
            "overflow_y": null,
            "padding": null,
            "right": null,
            "top": null,
            "visibility": null,
            "width": null
          }
        },
        "b325d25fc98946b596a86ef8fb9a5f25": {
          "model_module": "@jupyter-widgets/controls",
          "model_name": "DescriptionStyleModel",
          "model_module_version": "1.5.0",
          "state": {
            "_model_module": "@jupyter-widgets/controls",
            "_model_module_version": "1.5.0",
            "_model_name": "DescriptionStyleModel",
            "_view_count": null,
            "_view_module": "@jupyter-widgets/base",
            "_view_module_version": "1.2.0",
            "_view_name": "StyleView",
            "description_width": ""
          }
        },
        "8e8b962329c0405a969d8673e2d4e388": {
          "model_module": "@jupyter-widgets/controls",
          "model_name": "HBoxModel",
          "model_module_version": "1.5.0",
          "state": {
            "_dom_classes": [],
            "_model_module": "@jupyter-widgets/controls",
            "_model_module_version": "1.5.0",
            "_model_name": "HBoxModel",
            "_view_count": null,
            "_view_module": "@jupyter-widgets/controls",
            "_view_module_version": "1.5.0",
            "_view_name": "HBoxView",
            "box_style": "",
            "children": [
              "IPY_MODEL_1fae775d6cda49a79c93c95da30252fd",
              "IPY_MODEL_9f75af2e164448b492d5819f960b8885",
              "IPY_MODEL_e9957762a60f4f4cb1108b4c033f46ae"
            ],
            "layout": "IPY_MODEL_a9a0ca7475b24a4892f970330c51aa35"
          }
        },
        "1fae775d6cda49a79c93c95da30252fd": {
          "model_module": "@jupyter-widgets/controls",
          "model_name": "HTMLModel",
          "model_module_version": "1.5.0",
          "state": {
            "_dom_classes": [],
            "_model_module": "@jupyter-widgets/controls",
            "_model_module_version": "1.5.0",
            "_model_name": "HTMLModel",
            "_view_count": null,
            "_view_module": "@jupyter-widgets/controls",
            "_view_module_version": "1.5.0",
            "_view_name": "HTMLView",
            "description": "",
            "description_tooltip": null,
            "layout": "IPY_MODEL_9abc6f65aa284489ad17ffb6788e7284",
            "placeholder": "​",
            "style": "IPY_MODEL_bdc5107edb564a88bbab6f292143c366",
            "value": "Extraction completed...: 100%"
          }
        },
        "9f75af2e164448b492d5819f960b8885": {
          "model_module": "@jupyter-widgets/controls",
          "model_name": "FloatProgressModel",
          "model_module_version": "1.5.0",
          "state": {
            "_dom_classes": [],
            "_model_module": "@jupyter-widgets/controls",
            "_model_module_version": "1.5.0",
            "_model_name": "FloatProgressModel",
            "_view_count": null,
            "_view_module": "@jupyter-widgets/controls",
            "_view_module_version": "1.5.0",
            "_view_name": "ProgressView",
            "bar_style": "success",
            "description": "",
            "description_tooltip": null,
            "layout": "IPY_MODEL_1e2174e0a3ac4e4c8376967f6a4be959",
            "max": 1,
            "min": 0,
            "orientation": "horizontal",
            "style": "IPY_MODEL_7bc31a9a26dc4965b7f35058ed973e4b",
            "value": 1
          }
        },
        "e9957762a60f4f4cb1108b4c033f46ae": {
          "model_module": "@jupyter-widgets/controls",
          "model_name": "HTMLModel",
          "model_module_version": "1.5.0",
          "state": {
            "_dom_classes": [],
            "_model_module": "@jupyter-widgets/controls",
            "_model_module_version": "1.5.0",
            "_model_name": "HTMLModel",
            "_view_count": null,
            "_view_module": "@jupyter-widgets/controls",
            "_view_module_version": "1.5.0",
            "_view_name": "HTMLView",
            "description": "",
            "description_tooltip": null,
            "layout": "IPY_MODEL_1590028c2fc94fb58090b64a8cb513a1",
            "placeholder": "​",
            "style": "IPY_MODEL_d437d9ce0c8d4c0d907a739e70ce245a",
            "value": " 4/4 [00:05&lt;00:00,  1.57s/ file]"
          }
        },
        "a9a0ca7475b24a4892f970330c51aa35": {
          "model_module": "@jupyter-widgets/base",
          "model_name": "LayoutModel",
          "model_module_version": "1.2.0",
          "state": {
            "_model_module": "@jupyter-widgets/base",
            "_model_module_version": "1.2.0",
            "_model_name": "LayoutModel",
            "_view_count": null,
            "_view_module": "@jupyter-widgets/base",
            "_view_module_version": "1.2.0",
            "_view_name": "LayoutView",
            "align_content": null,
            "align_items": null,
            "align_self": null,
            "border": null,
            "bottom": null,
            "display": null,
            "flex": null,
            "flex_flow": null,
            "grid_area": null,
            "grid_auto_columns": null,
            "grid_auto_flow": null,
            "grid_auto_rows": null,
            "grid_column": null,
            "grid_gap": null,
            "grid_row": null,
            "grid_template_areas": null,
            "grid_template_columns": null,
            "grid_template_rows": null,
            "height": null,
            "justify_content": null,
            "justify_items": null,
            "left": null,
            "margin": null,
            "max_height": null,
            "max_width": null,
            "min_height": null,
            "min_width": null,
            "object_fit": null,
            "object_position": null,
            "order": null,
            "overflow": null,
            "overflow_x": null,
            "overflow_y": null,
            "padding": null,
            "right": null,
            "top": null,
            "visibility": null,
            "width": null
          }
        },
        "9abc6f65aa284489ad17ffb6788e7284": {
          "model_module": "@jupyter-widgets/base",
          "model_name": "LayoutModel",
          "model_module_version": "1.2.0",
          "state": {
            "_model_module": "@jupyter-widgets/base",
            "_model_module_version": "1.2.0",
            "_model_name": "LayoutModel",
            "_view_count": null,
            "_view_module": "@jupyter-widgets/base",
            "_view_module_version": "1.2.0",
            "_view_name": "LayoutView",
            "align_content": null,
            "align_items": null,
            "align_self": null,
            "border": null,
            "bottom": null,
            "display": null,
            "flex": null,
            "flex_flow": null,
            "grid_area": null,
            "grid_auto_columns": null,
            "grid_auto_flow": null,
            "grid_auto_rows": null,
            "grid_column": null,
            "grid_gap": null,
            "grid_row": null,
            "grid_template_areas": null,
            "grid_template_columns": null,
            "grid_template_rows": null,
            "height": null,
            "justify_content": null,
            "justify_items": null,
            "left": null,
            "margin": null,
            "max_height": null,
            "max_width": null,
            "min_height": null,
            "min_width": null,
            "object_fit": null,
            "object_position": null,
            "order": null,
            "overflow": null,
            "overflow_x": null,
            "overflow_y": null,
            "padding": null,
            "right": null,
            "top": null,
            "visibility": null,
            "width": null
          }
        },
        "bdc5107edb564a88bbab6f292143c366": {
          "model_module": "@jupyter-widgets/controls",
          "model_name": "DescriptionStyleModel",
          "model_module_version": "1.5.0",
          "state": {
            "_model_module": "@jupyter-widgets/controls",
            "_model_module_version": "1.5.0",
            "_model_name": "DescriptionStyleModel",
            "_view_count": null,
            "_view_module": "@jupyter-widgets/base",
            "_view_module_version": "1.2.0",
            "_view_name": "StyleView",
            "description_width": ""
          }
        },
        "1e2174e0a3ac4e4c8376967f6a4be959": {
          "model_module": "@jupyter-widgets/base",
          "model_name": "LayoutModel",
          "model_module_version": "1.2.0",
          "state": {
            "_model_module": "@jupyter-widgets/base",
            "_model_module_version": "1.2.0",
            "_model_name": "LayoutModel",
            "_view_count": null,
            "_view_module": "@jupyter-widgets/base",
            "_view_module_version": "1.2.0",
            "_view_name": "LayoutView",
            "align_content": null,
            "align_items": null,
            "align_self": null,
            "border": null,
            "bottom": null,
            "display": null,
            "flex": null,
            "flex_flow": null,
            "grid_area": null,
            "grid_auto_columns": null,
            "grid_auto_flow": null,
            "grid_auto_rows": null,
            "grid_column": null,
            "grid_gap": null,
            "grid_row": null,
            "grid_template_areas": null,
            "grid_template_columns": null,
            "grid_template_rows": null,
            "height": null,
            "justify_content": null,
            "justify_items": null,
            "left": null,
            "margin": null,
            "max_height": null,
            "max_width": null,
            "min_height": null,
            "min_width": null,
            "object_fit": null,
            "object_position": null,
            "order": null,
            "overflow": null,
            "overflow_x": null,
            "overflow_y": null,
            "padding": null,
            "right": null,
            "top": null,
            "visibility": null,
            "width": "20px"
          }
        },
        "7bc31a9a26dc4965b7f35058ed973e4b": {
          "model_module": "@jupyter-widgets/controls",
          "model_name": "ProgressStyleModel",
          "model_module_version": "1.5.0",
          "state": {
            "_model_module": "@jupyter-widgets/controls",
            "_model_module_version": "1.5.0",
            "_model_name": "ProgressStyleModel",
            "_view_count": null,
            "_view_module": "@jupyter-widgets/base",
            "_view_module_version": "1.2.0",
            "_view_name": "StyleView",
            "bar_color": null,
            "description_width": ""
          }
        },
        "1590028c2fc94fb58090b64a8cb513a1": {
          "model_module": "@jupyter-widgets/base",
          "model_name": "LayoutModel",
          "model_module_version": "1.2.0",
          "state": {
            "_model_module": "@jupyter-widgets/base",
            "_model_module_version": "1.2.0",
            "_model_name": "LayoutModel",
            "_view_count": null,
            "_view_module": "@jupyter-widgets/base",
            "_view_module_version": "1.2.0",
            "_view_name": "LayoutView",
            "align_content": null,
            "align_items": null,
            "align_self": null,
            "border": null,
            "bottom": null,
            "display": null,
            "flex": null,
            "flex_flow": null,
            "grid_area": null,
            "grid_auto_columns": null,
            "grid_auto_flow": null,
            "grid_auto_rows": null,
            "grid_column": null,
            "grid_gap": null,
            "grid_row": null,
            "grid_template_areas": null,
            "grid_template_columns": null,
            "grid_template_rows": null,
            "height": null,
            "justify_content": null,
            "justify_items": null,
            "left": null,
            "margin": null,
            "max_height": null,
            "max_width": null,
            "min_height": null,
            "min_width": null,
            "object_fit": null,
            "object_position": null,
            "order": null,
            "overflow": null,
            "overflow_x": null,
            "overflow_y": null,
            "padding": null,
            "right": null,
            "top": null,
            "visibility": null,
            "width": null
          }
        },
        "d437d9ce0c8d4c0d907a739e70ce245a": {
          "model_module": "@jupyter-widgets/controls",
          "model_name": "DescriptionStyleModel",
          "model_module_version": "1.5.0",
          "state": {
            "_model_module": "@jupyter-widgets/controls",
            "_model_module_version": "1.5.0",
            "_model_name": "DescriptionStyleModel",
            "_view_count": null,
            "_view_module": "@jupyter-widgets/base",
            "_view_module_version": "1.2.0",
            "_view_name": "StyleView",
            "description_width": ""
          }
        },
        "20aa4ceb590f455fad09ea3ee8a30ad9": {
          "model_module": "@jupyter-widgets/controls",
          "model_name": "HBoxModel",
          "model_module_version": "1.5.0",
          "state": {
            "_dom_classes": [],
            "_model_module": "@jupyter-widgets/controls",
            "_model_module_version": "1.5.0",
            "_model_name": "HBoxModel",
            "_view_count": null,
            "_view_module": "@jupyter-widgets/controls",
            "_view_module_version": "1.5.0",
            "_view_name": "HBoxView",
            "box_style": "",
            "children": [
              "IPY_MODEL_12b367626fbe46d0863775a8fadd9b06",
              "IPY_MODEL_7bd887914fc04acb82992a5a7fe56249",
              "IPY_MODEL_479eed394aad4e63b99b675dae687d80"
            ],
            "layout": "IPY_MODEL_32d29c21b434425e8329c229291a51b5"
          }
        },
        "12b367626fbe46d0863775a8fadd9b06": {
          "model_module": "@jupyter-widgets/controls",
          "model_name": "HTMLModel",
          "model_module_version": "1.5.0",
          "state": {
            "_dom_classes": [],
            "_model_module": "@jupyter-widgets/controls",
            "_model_module_version": "1.5.0",
            "_model_name": "HTMLModel",
            "_view_count": null,
            "_view_module": "@jupyter-widgets/controls",
            "_view_module_version": "1.5.0",
            "_view_name": "HTMLView",
            "description": "",
            "description_tooltip": null,
            "layout": "IPY_MODEL_19f572a9df6d4e4494db0f2370654753",
            "placeholder": "​",
            "style": "IPY_MODEL_e3fcbd343cc9424d94edb137d834f6f3",
            "value": ""
          }
        },
        "7bd887914fc04acb82992a5a7fe56249": {
          "model_module": "@jupyter-widgets/controls",
          "model_name": "FloatProgressModel",
          "model_module_version": "1.5.0",
          "state": {
            "_dom_classes": [],
            "_model_module": "@jupyter-widgets/controls",
            "_model_module_version": "1.5.0",
            "_model_name": "FloatProgressModel",
            "_view_count": null,
            "_view_module": "@jupyter-widgets/controls",
            "_view_module_version": "1.5.0",
            "_view_name": "ProgressView",
            "bar_style": "info",
            "description": "",
            "description_tooltip": null,
            "layout": "IPY_MODEL_d2d0201bd25148228444145ab00b0b22",
            "max": 1,
            "min": 0,
            "orientation": "horizontal",
            "style": "IPY_MODEL_38284845f7ff4fb2a3d47c435e4202d4",
            "value": 1
          }
        },
        "479eed394aad4e63b99b675dae687d80": {
          "model_module": "@jupyter-widgets/controls",
          "model_name": "HTMLModel",
          "model_module_version": "1.5.0",
          "state": {
            "_dom_classes": [],
            "_model_module": "@jupyter-widgets/controls",
            "_model_module_version": "1.5.0",
            "_model_name": "HTMLModel",
            "_view_count": null,
            "_view_module": "@jupyter-widgets/controls",
            "_view_module_version": "1.5.0",
            "_view_name": "HTMLView",
            "description": "",
            "description_tooltip": null,
            "layout": "IPY_MODEL_e1e8ca7e98ab4fe1aaea4f77a96d0765",
            "placeholder": "​",
            "style": "IPY_MODEL_f811b6cf0966481a900d0fa15d7205ea",
            "value": " 697885/0 [08:04&lt;00:00, 1480.76 examples/s]"
          }
        },
        "32d29c21b434425e8329c229291a51b5": {
          "model_module": "@jupyter-widgets/base",
          "model_name": "LayoutModel",
          "model_module_version": "1.2.0",
          "state": {
            "_model_module": "@jupyter-widgets/base",
            "_model_module_version": "1.2.0",
            "_model_name": "LayoutModel",
            "_view_count": null,
            "_view_module": "@jupyter-widgets/base",
            "_view_module_version": "1.2.0",
            "_view_name": "LayoutView",
            "align_content": null,
            "align_items": null,
            "align_self": null,
            "border": null,
            "bottom": null,
            "display": null,
            "flex": null,
            "flex_flow": null,
            "grid_area": null,
            "grid_auto_columns": null,
            "grid_auto_flow": null,
            "grid_auto_rows": null,
            "grid_column": null,
            "grid_gap": null,
            "grid_row": null,
            "grid_template_areas": null,
            "grid_template_columns": null,
            "grid_template_rows": null,
            "height": null,
            "justify_content": null,
            "justify_items": null,
            "left": null,
            "margin": null,
            "max_height": null,
            "max_width": null,
            "min_height": null,
            "min_width": null,
            "object_fit": null,
            "object_position": null,
            "order": null,
            "overflow": null,
            "overflow_x": null,
            "overflow_y": null,
            "padding": null,
            "right": null,
            "top": null,
            "visibility": null,
            "width": null
          }
        },
        "19f572a9df6d4e4494db0f2370654753": {
          "model_module": "@jupyter-widgets/base",
          "model_name": "LayoutModel",
          "model_module_version": "1.2.0",
          "state": {
            "_model_module": "@jupyter-widgets/base",
            "_model_module_version": "1.2.0",
            "_model_name": "LayoutModel",
            "_view_count": null,
            "_view_module": "@jupyter-widgets/base",
            "_view_module_version": "1.2.0",
            "_view_name": "LayoutView",
            "align_content": null,
            "align_items": null,
            "align_self": null,
            "border": null,
            "bottom": null,
            "display": null,
            "flex": null,
            "flex_flow": null,
            "grid_area": null,
            "grid_auto_columns": null,
            "grid_auto_flow": null,
            "grid_auto_rows": null,
            "grid_column": null,
            "grid_gap": null,
            "grid_row": null,
            "grid_template_areas": null,
            "grid_template_columns": null,
            "grid_template_rows": null,
            "height": null,
            "justify_content": null,
            "justify_items": null,
            "left": null,
            "margin": null,
            "max_height": null,
            "max_width": null,
            "min_height": null,
            "min_width": null,
            "object_fit": null,
            "object_position": null,
            "order": null,
            "overflow": null,
            "overflow_x": null,
            "overflow_y": null,
            "padding": null,
            "right": null,
            "top": null,
            "visibility": null,
            "width": null
          }
        },
        "e3fcbd343cc9424d94edb137d834f6f3": {
          "model_module": "@jupyter-widgets/controls",
          "model_name": "DescriptionStyleModel",
          "model_module_version": "1.5.0",
          "state": {
            "_model_module": "@jupyter-widgets/controls",
            "_model_module_version": "1.5.0",
            "_model_name": "DescriptionStyleModel",
            "_view_count": null,
            "_view_module": "@jupyter-widgets/base",
            "_view_module_version": "1.2.0",
            "_view_name": "StyleView",
            "description_width": ""
          }
        },
        "d2d0201bd25148228444145ab00b0b22": {
          "model_module": "@jupyter-widgets/base",
          "model_name": "LayoutModel",
          "model_module_version": "1.2.0",
          "state": {
            "_model_module": "@jupyter-widgets/base",
            "_model_module_version": "1.2.0",
            "_model_name": "LayoutModel",
            "_view_count": null,
            "_view_module": "@jupyter-widgets/base",
            "_view_module_version": "1.2.0",
            "_view_name": "LayoutView",
            "align_content": null,
            "align_items": null,
            "align_self": null,
            "border": null,
            "bottom": null,
            "display": null,
            "flex": null,
            "flex_flow": null,
            "grid_area": null,
            "grid_auto_columns": null,
            "grid_auto_flow": null,
            "grid_auto_rows": null,
            "grid_column": null,
            "grid_gap": null,
            "grid_row": null,
            "grid_template_areas": null,
            "grid_template_columns": null,
            "grid_template_rows": null,
            "height": null,
            "justify_content": null,
            "justify_items": null,
            "left": null,
            "margin": null,
            "max_height": null,
            "max_width": null,
            "min_height": null,
            "min_width": null,
            "object_fit": null,
            "object_position": null,
            "order": null,
            "overflow": null,
            "overflow_x": null,
            "overflow_y": null,
            "padding": null,
            "right": null,
            "top": null,
            "visibility": null,
            "width": "20px"
          }
        },
        "38284845f7ff4fb2a3d47c435e4202d4": {
          "model_module": "@jupyter-widgets/controls",
          "model_name": "ProgressStyleModel",
          "model_module_version": "1.5.0",
          "state": {
            "_model_module": "@jupyter-widgets/controls",
            "_model_module_version": "1.5.0",
            "_model_name": "ProgressStyleModel",
            "_view_count": null,
            "_view_module": "@jupyter-widgets/base",
            "_view_module_version": "1.2.0",
            "_view_name": "StyleView",
            "bar_color": null,
            "description_width": ""
          }
        },
        "e1e8ca7e98ab4fe1aaea4f77a96d0765": {
          "model_module": "@jupyter-widgets/base",
          "model_name": "LayoutModel",
          "model_module_version": "1.2.0",
          "state": {
            "_model_module": "@jupyter-widgets/base",
            "_model_module_version": "1.2.0",
            "_model_name": "LayoutModel",
            "_view_count": null,
            "_view_module": "@jupyter-widgets/base",
            "_view_module_version": "1.2.0",
            "_view_name": "LayoutView",
            "align_content": null,
            "align_items": null,
            "align_self": null,
            "border": null,
            "bottom": null,
            "display": null,
            "flex": null,
            "flex_flow": null,
            "grid_area": null,
            "grid_auto_columns": null,
            "grid_auto_flow": null,
            "grid_auto_rows": null,
            "grid_column": null,
            "grid_gap": null,
            "grid_row": null,
            "grid_template_areas": null,
            "grid_template_columns": null,
            "grid_template_rows": null,
            "height": null,
            "justify_content": null,
            "justify_items": null,
            "left": null,
            "margin": null,
            "max_height": null,
            "max_width": null,
            "min_height": null,
            "min_width": null,
            "object_fit": null,
            "object_position": null,
            "order": null,
            "overflow": null,
            "overflow_x": null,
            "overflow_y": null,
            "padding": null,
            "right": null,
            "top": null,
            "visibility": null,
            "width": null
          }
        },
        "f811b6cf0966481a900d0fa15d7205ea": {
          "model_module": "@jupyter-widgets/controls",
          "model_name": "DescriptionStyleModel",
          "model_module_version": "1.5.0",
          "state": {
            "_model_module": "@jupyter-widgets/controls",
            "_model_module_version": "1.5.0",
            "_model_name": "DescriptionStyleModel",
            "_view_count": null,
            "_view_module": "@jupyter-widgets/base",
            "_view_module_version": "1.2.0",
            "_view_name": "StyleView",
            "description_width": ""
          }
        },
        "890ab9f99ad345409a80b7e51e762190": {
          "model_module": "@jupyter-widgets/controls",
          "model_name": "HBoxModel",
          "model_module_version": "1.5.0",
          "state": {
            "_dom_classes": [],
            "_model_module": "@jupyter-widgets/controls",
            "_model_module_version": "1.5.0",
            "_model_name": "HBoxModel",
            "_view_count": null,
            "_view_module": "@jupyter-widgets/controls",
            "_view_module_version": "1.5.0",
            "_view_name": "HBoxView",
            "box_style": "",
            "children": [
              "IPY_MODEL_70c370c6662243efa887d65c453b0241",
              "IPY_MODEL_79c1a68e0c26425786c9e0a1deee1458",
              "IPY_MODEL_441585ad6dde41de9927372eddbff2ed"
            ],
            "layout": "IPY_MODEL_133947cafa1a4838a080f713faf5982f"
          }
        },
        "70c370c6662243efa887d65c453b0241": {
          "model_module": "@jupyter-widgets/controls",
          "model_name": "HTMLModel",
          "model_module_version": "1.5.0",
          "state": {
            "_dom_classes": [],
            "_model_module": "@jupyter-widgets/controls",
            "_model_module_version": "1.5.0",
            "_model_name": "HTMLModel",
            "_view_count": null,
            "_view_module": "@jupyter-widgets/controls",
            "_view_module_version": "1.5.0",
            "_view_name": "HTMLView",
            "description": "",
            "description_tooltip": null,
            "layout": "IPY_MODEL_24eceba06863493684d874a2e8c9b653",
            "placeholder": "​",
            "style": "IPY_MODEL_f6bd265d70564137a6b977c2455dfcfc",
            "value": "100%"
          }
        },
        "79c1a68e0c26425786c9e0a1deee1458": {
          "model_module": "@jupyter-widgets/controls",
          "model_name": "FloatProgressModel",
          "model_module_version": "1.5.0",
          "state": {
            "_dom_classes": [],
            "_model_module": "@jupyter-widgets/controls",
            "_model_module_version": "1.5.0",
            "_model_name": "FloatProgressModel",
            "_view_count": null,
            "_view_module": "@jupyter-widgets/controls",
            "_view_module_version": "1.5.0",
            "_view_name": "ProgressView",
            "bar_style": "danger",
            "description": "",
            "description_tooltip": null,
            "layout": "IPY_MODEL_9566396018244a6189f302abc547553c",
            "max": 697932,
            "min": 0,
            "orientation": "horizontal",
            "style": "IPY_MODEL_01de5215e3cb419bba62793a960863cb",
            "value": 697931
          }
        },
        "441585ad6dde41de9927372eddbff2ed": {
          "model_module": "@jupyter-widgets/controls",
          "model_name": "HTMLModel",
          "model_module_version": "1.5.0",
          "state": {
            "_dom_classes": [],
            "_model_module": "@jupyter-widgets/controls",
            "_model_module_version": "1.5.0",
            "_model_name": "HTMLModel",
            "_view_count": null,
            "_view_module": "@jupyter-widgets/controls",
            "_view_module_version": "1.5.0",
            "_view_name": "HTMLView",
            "description": "",
            "description_tooltip": null,
            "layout": "IPY_MODEL_88ead35355a047a3b470d51565f8fafa",
            "placeholder": "​",
            "style": "IPY_MODEL_bce3926351cf445ebe9db0270e7fb810",
            "value": " 697931/697932 [00:02&lt;00:00, 343083.95 examples/s]"
          }
        },
        "133947cafa1a4838a080f713faf5982f": {
          "model_module": "@jupyter-widgets/base",
          "model_name": "LayoutModel",
          "model_module_version": "1.2.0",
          "state": {
            "_model_module": "@jupyter-widgets/base",
            "_model_module_version": "1.2.0",
            "_model_name": "LayoutModel",
            "_view_count": null,
            "_view_module": "@jupyter-widgets/base",
            "_view_module_version": "1.2.0",
            "_view_name": "LayoutView",
            "align_content": null,
            "align_items": null,
            "align_self": null,
            "border": null,
            "bottom": null,
            "display": null,
            "flex": null,
            "flex_flow": null,
            "grid_area": null,
            "grid_auto_columns": null,
            "grid_auto_flow": null,
            "grid_auto_rows": null,
            "grid_column": null,
            "grid_gap": null,
            "grid_row": null,
            "grid_template_areas": null,
            "grid_template_columns": null,
            "grid_template_rows": null,
            "height": null,
            "justify_content": null,
            "justify_items": null,
            "left": null,
            "margin": null,
            "max_height": null,
            "max_width": null,
            "min_height": null,
            "min_width": null,
            "object_fit": null,
            "object_position": null,
            "order": null,
            "overflow": null,
            "overflow_x": null,
            "overflow_y": null,
            "padding": null,
            "right": null,
            "top": null,
            "visibility": null,
            "width": null
          }
        },
        "24eceba06863493684d874a2e8c9b653": {
          "model_module": "@jupyter-widgets/base",
          "model_name": "LayoutModel",
          "model_module_version": "1.2.0",
          "state": {
            "_model_module": "@jupyter-widgets/base",
            "_model_module_version": "1.2.0",
            "_model_name": "LayoutModel",
            "_view_count": null,
            "_view_module": "@jupyter-widgets/base",
            "_view_module_version": "1.2.0",
            "_view_name": "LayoutView",
            "align_content": null,
            "align_items": null,
            "align_self": null,
            "border": null,
            "bottom": null,
            "display": null,
            "flex": null,
            "flex_flow": null,
            "grid_area": null,
            "grid_auto_columns": null,
            "grid_auto_flow": null,
            "grid_auto_rows": null,
            "grid_column": null,
            "grid_gap": null,
            "grid_row": null,
            "grid_template_areas": null,
            "grid_template_columns": null,
            "grid_template_rows": null,
            "height": null,
            "justify_content": null,
            "justify_items": null,
            "left": null,
            "margin": null,
            "max_height": null,
            "max_width": null,
            "min_height": null,
            "min_width": null,
            "object_fit": null,
            "object_position": null,
            "order": null,
            "overflow": null,
            "overflow_x": null,
            "overflow_y": null,
            "padding": null,
            "right": null,
            "top": null,
            "visibility": null,
            "width": null
          }
        },
        "f6bd265d70564137a6b977c2455dfcfc": {
          "model_module": "@jupyter-widgets/controls",
          "model_name": "DescriptionStyleModel",
          "model_module_version": "1.5.0",
          "state": {
            "_model_module": "@jupyter-widgets/controls",
            "_model_module_version": "1.5.0",
            "_model_name": "DescriptionStyleModel",
            "_view_count": null,
            "_view_module": "@jupyter-widgets/base",
            "_view_module_version": "1.2.0",
            "_view_name": "StyleView",
            "description_width": ""
          }
        },
        "9566396018244a6189f302abc547553c": {
          "model_module": "@jupyter-widgets/base",
          "model_name": "LayoutModel",
          "model_module_version": "1.2.0",
          "state": {
            "_model_module": "@jupyter-widgets/base",
            "_model_module_version": "1.2.0",
            "_model_name": "LayoutModel",
            "_view_count": null,
            "_view_module": "@jupyter-widgets/base",
            "_view_module_version": "1.2.0",
            "_view_name": "LayoutView",
            "align_content": null,
            "align_items": null,
            "align_self": null,
            "border": null,
            "bottom": null,
            "display": null,
            "flex": null,
            "flex_flow": null,
            "grid_area": null,
            "grid_auto_columns": null,
            "grid_auto_flow": null,
            "grid_auto_rows": null,
            "grid_column": null,
            "grid_gap": null,
            "grid_row": null,
            "grid_template_areas": null,
            "grid_template_columns": null,
            "grid_template_rows": null,
            "height": null,
            "justify_content": null,
            "justify_items": null,
            "left": null,
            "margin": null,
            "max_height": null,
            "max_width": null,
            "min_height": null,
            "min_width": null,
            "object_fit": null,
            "object_position": null,
            "order": null,
            "overflow": null,
            "overflow_x": null,
            "overflow_y": null,
            "padding": null,
            "right": null,
            "top": null,
            "visibility": null,
            "width": null
          }
        },
        "01de5215e3cb419bba62793a960863cb": {
          "model_module": "@jupyter-widgets/controls",
          "model_name": "ProgressStyleModel",
          "model_module_version": "1.5.0",
          "state": {
            "_model_module": "@jupyter-widgets/controls",
            "_model_module_version": "1.5.0",
            "_model_name": "ProgressStyleModel",
            "_view_count": null,
            "_view_module": "@jupyter-widgets/base",
            "_view_module_version": "1.2.0",
            "_view_name": "StyleView",
            "bar_color": null,
            "description_width": ""
          }
        },
        "88ead35355a047a3b470d51565f8fafa": {
          "model_module": "@jupyter-widgets/base",
          "model_name": "LayoutModel",
          "model_module_version": "1.2.0",
          "state": {
            "_model_module": "@jupyter-widgets/base",
            "_model_module_version": "1.2.0",
            "_model_name": "LayoutModel",
            "_view_count": null,
            "_view_module": "@jupyter-widgets/base",
            "_view_module_version": "1.2.0",
            "_view_name": "LayoutView",
            "align_content": null,
            "align_items": null,
            "align_self": null,
            "border": null,
            "bottom": null,
            "display": null,
            "flex": null,
            "flex_flow": null,
            "grid_area": null,
            "grid_auto_columns": null,
            "grid_auto_flow": null,
            "grid_auto_rows": null,
            "grid_column": null,
            "grid_gap": null,
            "grid_row": null,
            "grid_template_areas": null,
            "grid_template_columns": null,
            "grid_template_rows": null,
            "height": null,
            "justify_content": null,
            "justify_items": null,
            "left": null,
            "margin": null,
            "max_height": null,
            "max_width": null,
            "min_height": null,
            "min_width": null,
            "object_fit": null,
            "object_position": null,
            "order": null,
            "overflow": null,
            "overflow_x": null,
            "overflow_y": null,
            "padding": null,
            "right": null,
            "top": null,
            "visibility": null,
            "width": null
          }
        },
        "bce3926351cf445ebe9db0270e7fb810": {
          "model_module": "@jupyter-widgets/controls",
          "model_name": "DescriptionStyleModel",
          "model_module_version": "1.5.0",
          "state": {
            "_model_module": "@jupyter-widgets/controls",
            "_model_module_version": "1.5.0",
            "_model_name": "DescriptionStyleModel",
            "_view_count": null,
            "_view_module": "@jupyter-widgets/base",
            "_view_module_version": "1.2.0",
            "_view_name": "StyleView",
            "description_width": ""
          }
        },
        "adad8a74d3fb4725a0aef82e71248821": {
          "model_module": "@jupyter-widgets/controls",
          "model_name": "HBoxModel",
          "model_module_version": "1.5.0",
          "state": {
            "_dom_classes": [],
            "_model_module": "@jupyter-widgets/controls",
            "_model_module_version": "1.5.0",
            "_model_name": "HBoxModel",
            "_view_count": null,
            "_view_module": "@jupyter-widgets/controls",
            "_view_module_version": "1.5.0",
            "_view_name": "HBoxView",
            "box_style": "",
            "children": [
              "IPY_MODEL_a1185687bdd240aea607c3c90fce5e47",
              "IPY_MODEL_f58106517aef4d6cabfe495084e659f6",
              "IPY_MODEL_f68d182701514d8299263c8fe411e87f"
            ],
            "layout": "IPY_MODEL_ddefab4734984805b61bb1b3f616741f"
          }
        },
        "a1185687bdd240aea607c3c90fce5e47": {
          "model_module": "@jupyter-widgets/controls",
          "model_name": "HTMLModel",
          "model_module_version": "1.5.0",
          "state": {
            "_dom_classes": [],
            "_model_module": "@jupyter-widgets/controls",
            "_model_module_version": "1.5.0",
            "_model_name": "HTMLModel",
            "_view_count": null,
            "_view_module": "@jupyter-widgets/controls",
            "_view_module_version": "1.5.0",
            "_view_name": "HTMLView",
            "description": "",
            "description_tooltip": null,
            "layout": "IPY_MODEL_dc241af9aaf146a5a5cbbf79b1d3be3e",
            "placeholder": "​",
            "style": "IPY_MODEL_23758603020e4df6a893130445b70785",
            "value": ""
          }
        },
        "f58106517aef4d6cabfe495084e659f6": {
          "model_module": "@jupyter-widgets/controls",
          "model_name": "FloatProgressModel",
          "model_module_version": "1.5.0",
          "state": {
            "_dom_classes": [],
            "_model_module": "@jupyter-widgets/controls",
            "_model_module_version": "1.5.0",
            "_model_name": "FloatProgressModel",
            "_view_count": null,
            "_view_module": "@jupyter-widgets/controls",
            "_view_module_version": "1.5.0",
            "_view_name": "ProgressView",
            "bar_style": "info",
            "description": "",
            "description_tooltip": null,
            "layout": "IPY_MODEL_81cbdb4b908f44bba99bb006d936d376",
            "max": 1,
            "min": 0,
            "orientation": "horizontal",
            "style": "IPY_MODEL_39cbe8286ecb4201b119485190afa8af",
            "value": 1
          }
        },
        "f68d182701514d8299263c8fe411e87f": {
          "model_module": "@jupyter-widgets/controls",
          "model_name": "HTMLModel",
          "model_module_version": "1.5.0",
          "state": {
            "_dom_classes": [],
            "_model_module": "@jupyter-widgets/controls",
            "_model_module_version": "1.5.0",
            "_model_name": "HTMLModel",
            "_view_count": null,
            "_view_module": "@jupyter-widgets/controls",
            "_view_module_version": "1.5.0",
            "_view_name": "HTMLView",
            "description": "",
            "description_tooltip": null,
            "layout": "IPY_MODEL_e95fe685f8d34347920d599fdf418acb",
            "placeholder": "​",
            "style": "IPY_MODEL_cb5fdb179366449cba85ac9e890fbb89",
            "value": " 116253/0 [01:18&lt;00:00, 1475.08 examples/s]"
          }
        },
        "ddefab4734984805b61bb1b3f616741f": {
          "model_module": "@jupyter-widgets/base",
          "model_name": "LayoutModel",
          "model_module_version": "1.2.0",
          "state": {
            "_model_module": "@jupyter-widgets/base",
            "_model_module_version": "1.2.0",
            "_model_name": "LayoutModel",
            "_view_count": null,
            "_view_module": "@jupyter-widgets/base",
            "_view_module_version": "1.2.0",
            "_view_name": "LayoutView",
            "align_content": null,
            "align_items": null,
            "align_self": null,
            "border": null,
            "bottom": null,
            "display": null,
            "flex": null,
            "flex_flow": null,
            "grid_area": null,
            "grid_auto_columns": null,
            "grid_auto_flow": null,
            "grid_auto_rows": null,
            "grid_column": null,
            "grid_gap": null,
            "grid_row": null,
            "grid_template_areas": null,
            "grid_template_columns": null,
            "grid_template_rows": null,
            "height": null,
            "justify_content": null,
            "justify_items": null,
            "left": null,
            "margin": null,
            "max_height": null,
            "max_width": null,
            "min_height": null,
            "min_width": null,
            "object_fit": null,
            "object_position": null,
            "order": null,
            "overflow": null,
            "overflow_x": null,
            "overflow_y": null,
            "padding": null,
            "right": null,
            "top": null,
            "visibility": null,
            "width": null
          }
        },
        "dc241af9aaf146a5a5cbbf79b1d3be3e": {
          "model_module": "@jupyter-widgets/base",
          "model_name": "LayoutModel",
          "model_module_version": "1.2.0",
          "state": {
            "_model_module": "@jupyter-widgets/base",
            "_model_module_version": "1.2.0",
            "_model_name": "LayoutModel",
            "_view_count": null,
            "_view_module": "@jupyter-widgets/base",
            "_view_module_version": "1.2.0",
            "_view_name": "LayoutView",
            "align_content": null,
            "align_items": null,
            "align_self": null,
            "border": null,
            "bottom": null,
            "display": null,
            "flex": null,
            "flex_flow": null,
            "grid_area": null,
            "grid_auto_columns": null,
            "grid_auto_flow": null,
            "grid_auto_rows": null,
            "grid_column": null,
            "grid_gap": null,
            "grid_row": null,
            "grid_template_areas": null,
            "grid_template_columns": null,
            "grid_template_rows": null,
            "height": null,
            "justify_content": null,
            "justify_items": null,
            "left": null,
            "margin": null,
            "max_height": null,
            "max_width": null,
            "min_height": null,
            "min_width": null,
            "object_fit": null,
            "object_position": null,
            "order": null,
            "overflow": null,
            "overflow_x": null,
            "overflow_y": null,
            "padding": null,
            "right": null,
            "top": null,
            "visibility": null,
            "width": null
          }
        },
        "23758603020e4df6a893130445b70785": {
          "model_module": "@jupyter-widgets/controls",
          "model_name": "DescriptionStyleModel",
          "model_module_version": "1.5.0",
          "state": {
            "_model_module": "@jupyter-widgets/controls",
            "_model_module_version": "1.5.0",
            "_model_name": "DescriptionStyleModel",
            "_view_count": null,
            "_view_module": "@jupyter-widgets/base",
            "_view_module_version": "1.2.0",
            "_view_name": "StyleView",
            "description_width": ""
          }
        },
        "81cbdb4b908f44bba99bb006d936d376": {
          "model_module": "@jupyter-widgets/base",
          "model_name": "LayoutModel",
          "model_module_version": "1.2.0",
          "state": {
            "_model_module": "@jupyter-widgets/base",
            "_model_module_version": "1.2.0",
            "_model_name": "LayoutModel",
            "_view_count": null,
            "_view_module": "@jupyter-widgets/base",
            "_view_module_version": "1.2.0",
            "_view_name": "LayoutView",
            "align_content": null,
            "align_items": null,
            "align_self": null,
            "border": null,
            "bottom": null,
            "display": null,
            "flex": null,
            "flex_flow": null,
            "grid_area": null,
            "grid_auto_columns": null,
            "grid_auto_flow": null,
            "grid_auto_rows": null,
            "grid_column": null,
            "grid_gap": null,
            "grid_row": null,
            "grid_template_areas": null,
            "grid_template_columns": null,
            "grid_template_rows": null,
            "height": null,
            "justify_content": null,
            "justify_items": null,
            "left": null,
            "margin": null,
            "max_height": null,
            "max_width": null,
            "min_height": null,
            "min_width": null,
            "object_fit": null,
            "object_position": null,
            "order": null,
            "overflow": null,
            "overflow_x": null,
            "overflow_y": null,
            "padding": null,
            "right": null,
            "top": null,
            "visibility": null,
            "width": "20px"
          }
        },
        "39cbe8286ecb4201b119485190afa8af": {
          "model_module": "@jupyter-widgets/controls",
          "model_name": "ProgressStyleModel",
          "model_module_version": "1.5.0",
          "state": {
            "_model_module": "@jupyter-widgets/controls",
            "_model_module_version": "1.5.0",
            "_model_name": "ProgressStyleModel",
            "_view_count": null,
            "_view_module": "@jupyter-widgets/base",
            "_view_module_version": "1.2.0",
            "_view_name": "StyleView",
            "bar_color": null,
            "description_width": ""
          }
        },
        "e95fe685f8d34347920d599fdf418acb": {
          "model_module": "@jupyter-widgets/base",
          "model_name": "LayoutModel",
          "model_module_version": "1.2.0",
          "state": {
            "_model_module": "@jupyter-widgets/base",
            "_model_module_version": "1.2.0",
            "_model_name": "LayoutModel",
            "_view_count": null,
            "_view_module": "@jupyter-widgets/base",
            "_view_module_version": "1.2.0",
            "_view_name": "LayoutView",
            "align_content": null,
            "align_items": null,
            "align_self": null,
            "border": null,
            "bottom": null,
            "display": null,
            "flex": null,
            "flex_flow": null,
            "grid_area": null,
            "grid_auto_columns": null,
            "grid_auto_flow": null,
            "grid_auto_rows": null,
            "grid_column": null,
            "grid_gap": null,
            "grid_row": null,
            "grid_template_areas": null,
            "grid_template_columns": null,
            "grid_template_rows": null,
            "height": null,
            "justify_content": null,
            "justify_items": null,
            "left": null,
            "margin": null,
            "max_height": null,
            "max_width": null,
            "min_height": null,
            "min_width": null,
            "object_fit": null,
            "object_position": null,
            "order": null,
            "overflow": null,
            "overflow_x": null,
            "overflow_y": null,
            "padding": null,
            "right": null,
            "top": null,
            "visibility": null,
            "width": null
          }
        },
        "cb5fdb179366449cba85ac9e890fbb89": {
          "model_module": "@jupyter-widgets/controls",
          "model_name": "DescriptionStyleModel",
          "model_module_version": "1.5.0",
          "state": {
            "_model_module": "@jupyter-widgets/controls",
            "_model_module_version": "1.5.0",
            "_model_name": "DescriptionStyleModel",
            "_view_count": null,
            "_view_module": "@jupyter-widgets/base",
            "_view_module_version": "1.2.0",
            "_view_name": "StyleView",
            "description_width": ""
          }
        },
        "65a414af9a834f8bab7dc0f75186fcde": {
          "model_module": "@jupyter-widgets/controls",
          "model_name": "HBoxModel",
          "model_module_version": "1.5.0",
          "state": {
            "_dom_classes": [],
            "_model_module": "@jupyter-widgets/controls",
            "_model_module_version": "1.5.0",
            "_model_name": "HBoxModel",
            "_view_count": null,
            "_view_module": "@jupyter-widgets/controls",
            "_view_module_version": "1.5.0",
            "_view_name": "HBoxView",
            "box_style": "",
            "children": [
              "IPY_MODEL_c5054c0ccd334ef1942fee90f3854fe4",
              "IPY_MODEL_d1b2c4b35c6747eea28f5bc4760810b1",
              "IPY_MODEL_bb5de84124134edd94412de98e36cd5b"
            ],
            "layout": "IPY_MODEL_eb240137a65a4af0a63ac0d6479f4ee1"
          }
        },
        "c5054c0ccd334ef1942fee90f3854fe4": {
          "model_module": "@jupyter-widgets/controls",
          "model_name": "HTMLModel",
          "model_module_version": "1.5.0",
          "state": {
            "_dom_classes": [],
            "_model_module": "@jupyter-widgets/controls",
            "_model_module_version": "1.5.0",
            "_model_name": "HTMLModel",
            "_view_count": null,
            "_view_module": "@jupyter-widgets/controls",
            "_view_module_version": "1.5.0",
            "_view_name": "HTMLView",
            "description": "",
            "description_tooltip": null,
            "layout": "IPY_MODEL_f04e797131aa4ea1988ffb1881b1e9d3",
            "placeholder": "​",
            "style": "IPY_MODEL_4fa925b1ab0d440ca266a4b5d40d331e",
            "value": "100%"
          }
        },
        "d1b2c4b35c6747eea28f5bc4760810b1": {
          "model_module": "@jupyter-widgets/controls",
          "model_name": "FloatProgressModel",
          "model_module_version": "1.5.0",
          "state": {
            "_dom_classes": [],
            "_model_module": "@jupyter-widgets/controls",
            "_model_module_version": "1.5.0",
            "_model_name": "FloatProgressModel",
            "_view_count": null,
            "_view_module": "@jupyter-widgets/controls",
            "_view_module_version": "1.5.0",
            "_view_name": "ProgressView",
            "bar_style": "danger",
            "description": "",
            "description_tooltip": null,
            "layout": "IPY_MODEL_fb0e2d22651042b8b582821a1b23f4dc",
            "max": 116323,
            "min": 0,
            "orientation": "horizontal",
            "style": "IPY_MODEL_6c85be026df544c381310339b385d6e4",
            "value": 116322
          }
        },
        "bb5de84124134edd94412de98e36cd5b": {
          "model_module": "@jupyter-widgets/controls",
          "model_name": "HTMLModel",
          "model_module_version": "1.5.0",
          "state": {
            "_dom_classes": [],
            "_model_module": "@jupyter-widgets/controls",
            "_model_module_version": "1.5.0",
            "_model_name": "HTMLModel",
            "_view_count": null,
            "_view_module": "@jupyter-widgets/controls",
            "_view_module_version": "1.5.0",
            "_view_name": "HTMLView",
            "description": "",
            "description_tooltip": null,
            "layout": "IPY_MODEL_e845f6c7f5174802a1a55c00ec8b759c",
            "placeholder": "​",
            "style": "IPY_MODEL_9948f04c4e5a4f21a52327e0bcf54a2c",
            "value": " 116322/116323 [00:00&lt;00:00, 309061.28 examples/s]"
          }
        },
        "eb240137a65a4af0a63ac0d6479f4ee1": {
          "model_module": "@jupyter-widgets/base",
          "model_name": "LayoutModel",
          "model_module_version": "1.2.0",
          "state": {
            "_model_module": "@jupyter-widgets/base",
            "_model_module_version": "1.2.0",
            "_model_name": "LayoutModel",
            "_view_count": null,
            "_view_module": "@jupyter-widgets/base",
            "_view_module_version": "1.2.0",
            "_view_name": "LayoutView",
            "align_content": null,
            "align_items": null,
            "align_self": null,
            "border": null,
            "bottom": null,
            "display": null,
            "flex": null,
            "flex_flow": null,
            "grid_area": null,
            "grid_auto_columns": null,
            "grid_auto_flow": null,
            "grid_auto_rows": null,
            "grid_column": null,
            "grid_gap": null,
            "grid_row": null,
            "grid_template_areas": null,
            "grid_template_columns": null,
            "grid_template_rows": null,
            "height": null,
            "justify_content": null,
            "justify_items": null,
            "left": null,
            "margin": null,
            "max_height": null,
            "max_width": null,
            "min_height": null,
            "min_width": null,
            "object_fit": null,
            "object_position": null,
            "order": null,
            "overflow": null,
            "overflow_x": null,
            "overflow_y": null,
            "padding": null,
            "right": null,
            "top": null,
            "visibility": null,
            "width": null
          }
        },
        "f04e797131aa4ea1988ffb1881b1e9d3": {
          "model_module": "@jupyter-widgets/base",
          "model_name": "LayoutModel",
          "model_module_version": "1.2.0",
          "state": {
            "_model_module": "@jupyter-widgets/base",
            "_model_module_version": "1.2.0",
            "_model_name": "LayoutModel",
            "_view_count": null,
            "_view_module": "@jupyter-widgets/base",
            "_view_module_version": "1.2.0",
            "_view_name": "LayoutView",
            "align_content": null,
            "align_items": null,
            "align_self": null,
            "border": null,
            "bottom": null,
            "display": null,
            "flex": null,
            "flex_flow": null,
            "grid_area": null,
            "grid_auto_columns": null,
            "grid_auto_flow": null,
            "grid_auto_rows": null,
            "grid_column": null,
            "grid_gap": null,
            "grid_row": null,
            "grid_template_areas": null,
            "grid_template_columns": null,
            "grid_template_rows": null,
            "height": null,
            "justify_content": null,
            "justify_items": null,
            "left": null,
            "margin": null,
            "max_height": null,
            "max_width": null,
            "min_height": null,
            "min_width": null,
            "object_fit": null,
            "object_position": null,
            "order": null,
            "overflow": null,
            "overflow_x": null,
            "overflow_y": null,
            "padding": null,
            "right": null,
            "top": null,
            "visibility": null,
            "width": null
          }
        },
        "4fa925b1ab0d440ca266a4b5d40d331e": {
          "model_module": "@jupyter-widgets/controls",
          "model_name": "DescriptionStyleModel",
          "model_module_version": "1.5.0",
          "state": {
            "_model_module": "@jupyter-widgets/controls",
            "_model_module_version": "1.5.0",
            "_model_name": "DescriptionStyleModel",
            "_view_count": null,
            "_view_module": "@jupyter-widgets/base",
            "_view_module_version": "1.2.0",
            "_view_name": "StyleView",
            "description_width": ""
          }
        },
        "fb0e2d22651042b8b582821a1b23f4dc": {
          "model_module": "@jupyter-widgets/base",
          "model_name": "LayoutModel",
          "model_module_version": "1.2.0",
          "state": {
            "_model_module": "@jupyter-widgets/base",
            "_model_module_version": "1.2.0",
            "_model_name": "LayoutModel",
            "_view_count": null,
            "_view_module": "@jupyter-widgets/base",
            "_view_module_version": "1.2.0",
            "_view_name": "LayoutView",
            "align_content": null,
            "align_items": null,
            "align_self": null,
            "border": null,
            "bottom": null,
            "display": null,
            "flex": null,
            "flex_flow": null,
            "grid_area": null,
            "grid_auto_columns": null,
            "grid_auto_flow": null,
            "grid_auto_rows": null,
            "grid_column": null,
            "grid_gap": null,
            "grid_row": null,
            "grid_template_areas": null,
            "grid_template_columns": null,
            "grid_template_rows": null,
            "height": null,
            "justify_content": null,
            "justify_items": null,
            "left": null,
            "margin": null,
            "max_height": null,
            "max_width": null,
            "min_height": null,
            "min_width": null,
            "object_fit": null,
            "object_position": null,
            "order": null,
            "overflow": null,
            "overflow_x": null,
            "overflow_y": null,
            "padding": null,
            "right": null,
            "top": null,
            "visibility": null,
            "width": null
          }
        },
        "6c85be026df544c381310339b385d6e4": {
          "model_module": "@jupyter-widgets/controls",
          "model_name": "ProgressStyleModel",
          "model_module_version": "1.5.0",
          "state": {
            "_model_module": "@jupyter-widgets/controls",
            "_model_module_version": "1.5.0",
            "_model_name": "ProgressStyleModel",
            "_view_count": null,
            "_view_module": "@jupyter-widgets/base",
            "_view_module_version": "1.2.0",
            "_view_name": "StyleView",
            "bar_color": null,
            "description_width": ""
          }
        },
        "e845f6c7f5174802a1a55c00ec8b759c": {
          "model_module": "@jupyter-widgets/base",
          "model_name": "LayoutModel",
          "model_module_version": "1.2.0",
          "state": {
            "_model_module": "@jupyter-widgets/base",
            "_model_module_version": "1.2.0",
            "_model_name": "LayoutModel",
            "_view_count": null,
            "_view_module": "@jupyter-widgets/base",
            "_view_module_version": "1.2.0",
            "_view_name": "LayoutView",
            "align_content": null,
            "align_items": null,
            "align_self": null,
            "border": null,
            "bottom": null,
            "display": null,
            "flex": null,
            "flex_flow": null,
            "grid_area": null,
            "grid_auto_columns": null,
            "grid_auto_flow": null,
            "grid_auto_rows": null,
            "grid_column": null,
            "grid_gap": null,
            "grid_row": null,
            "grid_template_areas": null,
            "grid_template_columns": null,
            "grid_template_rows": null,
            "height": null,
            "justify_content": null,
            "justify_items": null,
            "left": null,
            "margin": null,
            "max_height": null,
            "max_width": null,
            "min_height": null,
            "min_width": null,
            "object_fit": null,
            "object_position": null,
            "order": null,
            "overflow": null,
            "overflow_x": null,
            "overflow_y": null,
            "padding": null,
            "right": null,
            "top": null,
            "visibility": null,
            "width": null
          }
        },
        "9948f04c4e5a4f21a52327e0bcf54a2c": {
          "model_module": "@jupyter-widgets/controls",
          "model_name": "DescriptionStyleModel",
          "model_module_version": "1.5.0",
          "state": {
            "_model_module": "@jupyter-widgets/controls",
            "_model_module_version": "1.5.0",
            "_model_name": "DescriptionStyleModel",
            "_view_count": null,
            "_view_module": "@jupyter-widgets/base",
            "_view_module_version": "1.2.0",
            "_view_name": "StyleView",
            "description_width": ""
          }
        }
      }
    }
  },
  "nbformat": 4,
  "nbformat_minor": 0
}